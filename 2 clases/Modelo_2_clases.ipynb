{
 "cells": [
  {
   "cell_type": "code",
   "execution_count": 1,
   "id": "1acaad5b-cdf6-42a8-8e5a-391f60c8fb20",
   "metadata": {},
   "outputs": [],
   "source": [
    "import pandas as pd\n",
    "from sklearn import svm\n",
    "import matplotlib.pyplot as plt\n",
    "import numpy as np\n",
    "import seaborn as sns\n",
    "from sklearn import metrics \n",
    "\n",
    "df = pd.read_csv('./train_motion_data.csv')\n",
    "df2 = pd.read_csv('./test_motion_data.csv')"
   ]
  },
  {
   "cell_type": "code",
   "execution_count": 2,
   "id": "a2c8d5d6-1d2a-427a-9146-a8b363012898",
   "metadata": {},
   "outputs": [],
   "source": [
    "#sns.pairplot(df, hue=\"Class\")"
   ]
  },
  {
   "cell_type": "code",
   "execution_count": 3,
   "id": "82b871ba-f809-4c53-8ea2-0a7b7c6fd26e",
   "metadata": {},
   "outputs": [],
   "source": [
    "#sns.pairplot(df2, hue=\"Class\")"
   ]
  },
  {
   "cell_type": "code",
   "execution_count": 4,
   "id": "23c961bf-2fbf-47df-b6af-b40569305e74",
   "metadata": {},
   "outputs": [
    {
     "data": {
      "text/html": [
       "<div>\n",
       "<style scoped>\n",
       "    .dataframe tbody tr th:only-of-type {\n",
       "        vertical-align: middle;\n",
       "    }\n",
       "\n",
       "    .dataframe tbody tr th {\n",
       "        vertical-align: top;\n",
       "    }\n",
       "\n",
       "    .dataframe thead th {\n",
       "        text-align: right;\n",
       "    }\n",
       "</style>\n",
       "<table border=\"1\" class=\"dataframe\">\n",
       "  <thead>\n",
       "    <tr style=\"text-align: right;\">\n",
       "      <th></th>\n",
       "      <th>AccX</th>\n",
       "      <th>AccY</th>\n",
       "      <th>AccZ</th>\n",
       "      <th>GyroX</th>\n",
       "      <th>GyroY</th>\n",
       "      <th>GyroZ</th>\n",
       "      <th>Class</th>\n",
       "      <th>Timestamp</th>\n",
       "      <th>Class2</th>\n",
       "    </tr>\n",
       "  </thead>\n",
       "  <tbody>\n",
       "    <tr>\n",
       "      <th>0</th>\n",
       "      <td>0.000000</td>\n",
       "      <td>0.000000</td>\n",
       "      <td>0.000000</td>\n",
       "      <td>0.059407</td>\n",
       "      <td>-0.174707</td>\n",
       "      <td>0.101938</td>\n",
       "      <td>NORMAL</td>\n",
       "      <td>3581629</td>\n",
       "      <td>2</td>\n",
       "    </tr>\n",
       "    <tr>\n",
       "      <th>1</th>\n",
       "      <td>-1.624864</td>\n",
       "      <td>-1.082492</td>\n",
       "      <td>-0.204183</td>\n",
       "      <td>-0.028558</td>\n",
       "      <td>0.051313</td>\n",
       "      <td>0.135536</td>\n",
       "      <td>NORMAL</td>\n",
       "      <td>3581630</td>\n",
       "      <td>2</td>\n",
       "    </tr>\n",
       "    <tr>\n",
       "      <th>2</th>\n",
       "      <td>-0.594660</td>\n",
       "      <td>-0.122410</td>\n",
       "      <td>0.220502</td>\n",
       "      <td>-0.019395</td>\n",
       "      <td>-0.029322</td>\n",
       "      <td>0.087888</td>\n",
       "      <td>NORMAL</td>\n",
       "      <td>3581630</td>\n",
       "      <td>2</td>\n",
       "    </tr>\n",
       "    <tr>\n",
       "      <th>3</th>\n",
       "      <td>0.738478</td>\n",
       "      <td>-0.228456</td>\n",
       "      <td>0.667732</td>\n",
       "      <td>0.069791</td>\n",
       "      <td>-0.029932</td>\n",
       "      <td>0.054902</td>\n",
       "      <td>NORMAL</td>\n",
       "      <td>3581631</td>\n",
       "      <td>2</td>\n",
       "    </tr>\n",
       "    <tr>\n",
       "      <th>4</th>\n",
       "      <td>0.101741</td>\n",
       "      <td>0.777568</td>\n",
       "      <td>-0.066730</td>\n",
       "      <td>0.030696</td>\n",
       "      <td>-0.003665</td>\n",
       "      <td>0.054902</td>\n",
       "      <td>NORMAL</td>\n",
       "      <td>3581631</td>\n",
       "      <td>2</td>\n",
       "    </tr>\n",
       "    <tr>\n",
       "      <th>...</th>\n",
       "      <td>...</td>\n",
       "      <td>...</td>\n",
       "      <td>...</td>\n",
       "      <td>...</td>\n",
       "      <td>...</td>\n",
       "      <td>...</td>\n",
       "      <td>...</td>\n",
       "      <td>...</td>\n",
       "      <td>...</td>\n",
       "    </tr>\n",
       "    <tr>\n",
       "      <th>2308</th>\n",
       "      <td>0.538870</td>\n",
       "      <td>-1.645984</td>\n",
       "      <td>-0.712197</td>\n",
       "      <td>0.349568</td>\n",
       "      <td>0.028100</td>\n",
       "      <td>0.662712</td>\n",
       "      <td>AGGRESSIVE</td>\n",
       "      <td>3582964</td>\n",
       "      <td>3</td>\n",
       "    </tr>\n",
       "    <tr>\n",
       "      <th>2309</th>\n",
       "      <td>1.678918</td>\n",
       "      <td>-1.392127</td>\n",
       "      <td>-0.476326</td>\n",
       "      <td>0.570090</td>\n",
       "      <td>-0.061697</td>\n",
       "      <td>-0.168675</td>\n",
       "      <td>AGGRESSIVE</td>\n",
       "      <td>3582965</td>\n",
       "      <td>3</td>\n",
       "    </tr>\n",
       "    <tr>\n",
       "      <th>2310</th>\n",
       "      <td>0.323433</td>\n",
       "      <td>0.589311</td>\n",
       "      <td>-1.939797</td>\n",
       "      <td>-0.027947</td>\n",
       "      <td>1.255328</td>\n",
       "      <td>0.639500</td>\n",
       "      <td>AGGRESSIVE</td>\n",
       "      <td>3582965</td>\n",
       "      <td>3</td>\n",
       "    </tr>\n",
       "    <tr>\n",
       "      <th>2311</th>\n",
       "      <td>2.497311</td>\n",
       "      <td>-0.606175</td>\n",
       "      <td>4.700154</td>\n",
       "      <td>0.849255</td>\n",
       "      <td>-0.196699</td>\n",
       "      <td>-0.240757</td>\n",
       "      <td>AGGRESSIVE</td>\n",
       "      <td>3582966</td>\n",
       "      <td>3</td>\n",
       "    </tr>\n",
       "    <tr>\n",
       "      <th>2312</th>\n",
       "      <td>0.482297</td>\n",
       "      <td>-0.090277</td>\n",
       "      <td>-1.165673</td>\n",
       "      <td>-0.558178</td>\n",
       "      <td>-0.242514</td>\n",
       "      <td>-0.383700</td>\n",
       "      <td>AGGRESSIVE</td>\n",
       "      <td>3582966</td>\n",
       "      <td>3</td>\n",
       "    </tr>\n",
       "  </tbody>\n",
       "</table>\n",
       "<p>2313 rows × 9 columns</p>\n",
       "</div>"
      ],
      "text/plain": [
       "          AccX      AccY      AccZ     GyroX     GyroY     GyroZ       Class  \\\n",
       "0     0.000000  0.000000  0.000000  0.059407 -0.174707  0.101938      NORMAL   \n",
       "1    -1.624864 -1.082492 -0.204183 -0.028558  0.051313  0.135536      NORMAL   \n",
       "2    -0.594660 -0.122410  0.220502 -0.019395 -0.029322  0.087888      NORMAL   \n",
       "3     0.738478 -0.228456  0.667732  0.069791 -0.029932  0.054902      NORMAL   \n",
       "4     0.101741  0.777568 -0.066730  0.030696 -0.003665  0.054902      NORMAL   \n",
       "...        ...       ...       ...       ...       ...       ...         ...   \n",
       "2308  0.538870 -1.645984 -0.712197  0.349568  0.028100  0.662712  AGGRESSIVE   \n",
       "2309  1.678918 -1.392127 -0.476326  0.570090 -0.061697 -0.168675  AGGRESSIVE   \n",
       "2310  0.323433  0.589311 -1.939797 -0.027947  1.255328  0.639500  AGGRESSIVE   \n",
       "2311  2.497311 -0.606175  4.700154  0.849255 -0.196699 -0.240757  AGGRESSIVE   \n",
       "2312  0.482297 -0.090277 -1.165673 -0.558178 -0.242514 -0.383700  AGGRESSIVE   \n",
       "\n",
       "      Timestamp  Class2  \n",
       "0       3581629       2  \n",
       "1       3581630       2  \n",
       "2       3581630       2  \n",
       "3       3581631       2  \n",
       "4       3581631       2  \n",
       "...         ...     ...  \n",
       "2308    3582964       3  \n",
       "2309    3582965       3  \n",
       "2310    3582965       3  \n",
       "2311    3582966       3  \n",
       "2312    3582966       3  \n",
       "\n",
       "[2313 rows x 9 columns]"
      ]
     },
     "execution_count": 4,
     "metadata": {},
     "output_type": "execute_result"
    }
   ],
   "source": [
    "df['Class2'] = df['Class']\n",
    "df= df.replace({\"Class2\":  {\"SLOW\":1, \"NORMAL\":2, \"AGGRESSIVE\":3} })\n",
    "df =df[df.Class != \"SLOW\"]\n",
    "df2= df2.replace({\"Class2\":  {\"SLOW\":1, \"NORMAL\":2, \"AGGRESSIVE\":3} })"
   ]
  },
  {
   "cell_type": "code",
   "execution_count": 5,
   "id": "32878537-d767-47ac-a4be-c14aa7814b53",
   "metadata": {},
   "outputs": [
    {
     "name": "stderr",
     "output_type": "stream",
     "text": [
      "/tmp/ipykernel_23629/1047416605.py:2: UserWarning: Boolean Series key will be reindexed to match DataFrame index.\n",
      "  dfS = dfS[ df.Class2!=2]\n",
      "/tmp/ipykernel_23629/1047416605.py:5: UserWarning: Boolean Series key will be reindexed to match DataFrame index.\n",
      "  dfN = dfN[ df.Class2!=1]\n"
     ]
    }
   ],
   "source": [
    "dfS = df[df.Class2!=3]\n",
    "dfS = dfS[ df.Class2!=2]\n",
    "\n",
    "dfN = df[df.Class2!=3]\n",
    "dfN = dfN[ df.Class2!=1]\n",
    "\n",
    "dfA = df[df.Class2!=1]\n",
    "dfA = dfA[ df.Class2!=2]"
   ]
  },
  {
   "cell_type": "code",
   "execution_count": 6,
   "id": "35f7deac-d588-477e-89aa-0f27affdde32",
   "metadata": {},
   "outputs": [],
   "source": [
    "dfall = [dfN,dfA,dfS]"
   ]
  },
  {
   "cell_type": "code",
   "execution_count": 7,
   "id": "753cb3d0-00a4-46ea-a820-4ad44515d95b",
   "metadata": {},
   "outputs": [],
   "source": [
    "def deleteAccY(d):\n",
    "    Q1v = np.percentile(d['AccY'], 20)\n",
    "    Q3v = np.percentile(d['AccY'], 80)\n",
    "    IQRv = Q3v - Q1v\n",
    "    Ls = Q3v + 1.5*IQRv\n",
    "    Li = Q1v - 1.5*IQRv\n",
    "    lsuperior = d[d['AccY'] > Ls]\n",
    "    linferior = d[d['AccY'] < Li]\n",
    "    d.drop(lsuperior.index, inplace=True)\n",
    "    d.drop(linferior.index, inplace=True)"
   ]
  },
  {
   "cell_type": "code",
   "execution_count": 8,
   "id": "2a236c1e-5db7-487b-99b7-0aa2def86dbc",
   "metadata": {},
   "outputs": [],
   "source": [
    "#deleteAccY(dfN)\n",
    "#deleteAccY(dfS)"
   ]
  },
  {
   "cell_type": "code",
   "execution_count": 9,
   "id": "9271e99a-b40f-42fc-befe-bbf871cf8e02",
   "metadata": {},
   "outputs": [],
   "source": [
    "dfRes = pd.concat(dfall)"
   ]
  },
  {
   "cell_type": "code",
   "execution_count": 10,
   "id": "d6f77d13-e216-40ff-90cc-8a822452816d",
   "metadata": {},
   "outputs": [],
   "source": [
    "#df = dfRes\n"
   ]
  },
  {
   "cell_type": "code",
   "execution_count": 11,
   "id": "f6460be7-365d-41f8-82bf-ea59dfa0596c",
   "metadata": {},
   "outputs": [
    {
     "data": {
      "image/png": "[encoded data removed]",
      "text/plain": [
       "<Figure size 432x288 with 2 Axes>"
      ]
     },
     "metadata": {
      "needs_background": "light"
     },
     "output_type": "display_data"
    }
   ],
   "source": [
    "ax = sns.heatmap(df.corr(), annot=True).set(title='Pearson Correlations');"
   ]
  },
  {
   "cell_type": "code",
   "execution_count": 12,
   "id": "3370bf58-857f-4895-83b9-ce4c24f7387a",
   "metadata": {},
   "outputs": [],
   "source": [
    "#sns.pairplot(df, hue=\"Class\")"
   ]
  },
  {
   "cell_type": "code",
   "execution_count": 13,
   "id": "266de15a-b785-4f0c-9ecc-88a8c9c7b836",
   "metadata": {},
   "outputs": [],
   "source": [
    "y=df[\"Class\"].values\n",
    "y1=df2[\"Class\"].values\n",
    "X_train =df[[\"AccX\",\"AccY\",\"GyroX\"]].values\n",
    "X_test = df2[[\"AccX\",\"AccY\",\"GyroX\"]].values\n",
    "y_train = y\n",
    "y_test = y1"
   ]
  },
  {
   "cell_type": "code",
   "execution_count": 14,
   "id": "41f54d23-5c5c-4bda-96fe-93cfea916c84",
   "metadata": {},
   "outputs": [],
   "source": [
    "\n",
    "# Importing the library\n",
    "import pandas as pd\n",
    "from sklearn.preprocessing import StandardScaler\n",
    "# define standard scaler\n",
    "scaler = StandardScaler()\n",
    "  \n",
    "# transform data\n",
    "# X_train = scaler.fit_transform(X_train)\n",
    "# X_test = scaler.fit_transform(X_test)\n"
   ]
  },
  {
   "cell_type": "markdown",
   "id": "24853d56-43e7-477f-84ae-93eea6e62ced",
   "metadata": {
    "tags": []
   },
   "source": [
    "# Regresion"
   ]
  },
  {
   "cell_type": "code",
   "execution_count": 15,
   "id": "960d623a-fda9-4f41-b5dc-757c2872e6cf",
   "metadata": {},
   "outputs": [],
   "source": [
    "# Import sklearn linear_model\n",
    "from sklearn.linear_model import LogisticRegression\n",
    "regmodel = LogisticRegression()\n",
    "#Train the model using the training sets\n"
   ]
  },
  {
   "cell_type": "code",
   "execution_count": 16,
   "id": "942ab56f-1a72-4661-954c-a095181c2aaf",
   "metadata": {},
   "outputs": [
    {
     "name": "stdout",
     "output_type": "stream",
     "text": [
      "ACCURACY OF THE MODEL:  0.5687465488680287\n"
     ]
    }
   ],
   "source": [
    "regmodel.fit(X_train, y_train)\n",
    "y_pred = regmodel.predict(X_test)\n",
    "print(\"ACCURACY OF THE MODEL: \", metrics.accuracy_score(y_test, y_pred))"
   ]
  },
  {
   "cell_type": "code",
   "execution_count": 17,
   "id": "1c38f6bc-a25a-47f6-8d8d-1ea4ec2db0d1",
   "metadata": {},
   "outputs": [
    {
     "data": {
      "text/plain": [
       "<sklearn.metrics._plot.confusion_matrix.ConfusionMatrixDisplay at 0x7f406c206370>"
      ]
     },
     "execution_count": 17,
     "metadata": {},
     "output_type": "execute_result"
    },
    {
     "data": {
      "image/png": "[encoded data removed]",
      "text/plain": [
       "<Figure size 432x288 with 2 Axes>"
      ]
     },
     "metadata": {
      "needs_background": "light"
     },
     "output_type": "display_data"
    }
   ],
   "source": [
    "from sklearn.metrics import confusion_matrix\n",
    "from sklearn.metrics import ConfusionMatrixDisplay\n",
    "CMnorm = confusion_matrix(y_test, y_pred, normalize='true')\n",
    "disp = ConfusionMatrixDisplay(confusion_matrix=CMnorm, display_labels=regmodel.classes_)\n",
    "disp.plot()"
   ]
  },
  {
   "cell_type": "code",
   "execution_count": null,
   "id": "78aa34e6-b249-40ee-b831-8279185b2d1c",
   "metadata": {},
   "outputs": [],
   "source": []
  },
  {
   "cell_type": "code",
   "execution_count": null,
   "id": "f710db7e-a92d-4d7e-8d61-d1aa2c3563dd",
   "metadata": {},
   "outputs": [],
   "source": []
  },
  {
   "cell_type": "markdown",
   "id": "9b165102-cbf0-4407-b523-25d5d05ea1fb",
   "metadata": {
    "tags": []
   },
   "source": [
    "# KNN"
   ]
  },
  {
   "cell_type": "code",
   "execution_count": 18,
   "id": "cac6a398-7da7-4af8-910d-1f65c209d5e7",
   "metadata": {},
   "outputs": [
    {
     "name": "stdout",
     "output_type": "stream",
     "text": [
      "ACCURACY OF THE MODEL:  0.5919381557150746\n"
     ]
    }
   ],
   "source": [
    "from sklearn.neighbors import KNeighborsClassifier\n",
    "from sklearn.model_selection import train_test_split\n",
    "k = 50\n",
    "kNN    = KNeighborsClassifier(n_neighbors=k,p=2)\n",
    "kNN.fit(X_train, y_train)\n",
    "kNN.score(X_test, y_test)\n",
    "y_pred = kNN.predict(X_test)\n",
    "print(\"ACCURACY OF THE MODEL: \", metrics.accuracy_score(y_test, y_pred))"
   ]
  },
  {
   "cell_type": "code",
   "execution_count": null,
   "id": "cf7473c0-7caf-4c36-9fb1-08e2a07cd821",
   "metadata": {},
   "outputs": [],
   "source": []
  },
  {
   "cell_type": "code",
   "execution_count": 19,
   "id": "c31e0f35-6dee-40fa-a45e-a9f44a0d0337",
   "metadata": {},
   "outputs": [
    {
     "data": {
      "text/plain": [
       "<sklearn.metrics._plot.confusion_matrix.ConfusionMatrixDisplay at 0x7f3ffd83ef40>"
      ]
     },
     "execution_count": 19,
     "metadata": {},
     "output_type": "execute_result"
    },
    {
     "data": {
      "image/png": "[encoded data removed]",
      "text/plain": [
       "<Figure size 432x288 with 2 Axes>"
      ]
     },
     "metadata": {
      "needs_background": "light"
     },
     "output_type": "display_data"
    }
   ],
   "source": [
    "CMnorm = confusion_matrix(y_test, y_pred, normalize='true')\n",
    "disp = ConfusionMatrixDisplay(confusion_matrix=CMnorm, display_labels=kNN.classes_)\n",
    "disp.plot()"
   ]
  },
  {
   "cell_type": "markdown",
   "id": "44530a48-a942-4e3b-8ff0-70503191fb40",
   "metadata": {},
   "source": [
    "# RF"
   ]
  },
  {
   "cell_type": "code",
   "execution_count": 32,
   "id": "7f402719-134e-43a3-83da-24a4bb988797",
   "metadata": {},
   "outputs": [
    {
     "name": "stdout",
     "output_type": "stream",
     "text": [
      "ACCURACY OF THE MODEL:  0.5687465488680287\n"
     ]
    }
   ],
   "source": [
    "from sklearn.ensemble import RandomForestClassifier\n",
    "\n",
    "clf = RandomForestClassifier(n_estimators = 100) \n",
    " \n",
    "clf.fit(X_train, y_train)\n",
    " \n",
    "y_pred = clf.predict(X_test)\n",
    " \n",
    "print(\"ACCURACY OF THE MODEL: \", metrics.accuracy_score(y_test, y_pred))"
   ]
  },
  {
   "cell_type": "code",
   "execution_count": 33,
   "id": "c92e5197-40da-4c1f-a403-3321435569d0",
   "metadata": {},
   "outputs": [
    {
     "data": {
      "text/plain": [
       "<sklearn.metrics._plot.confusion_matrix.ConfusionMatrixDisplay at 0x7f3fffd760a0>"
      ]
     },
     "execution_count": 33,
     "metadata": {},
     "output_type": "execute_result"
    },
    {
     "data": {
      "image/png": "[encoded data removed]",
      "text/plain": [
       "<Figure size 432x288 with 2 Axes>"
      ]
     },
     "metadata": {
      "needs_background": "light"
     },
     "output_type": "display_data"
    }
   ],
   "source": [
    "CMnorm = confusion_matrix(y_test, y_pred, normalize='true')\n",
    "disp = ConfusionMatrixDisplay(confusion_matrix=CMnorm, display_labels=clf.classes_)\n",
    "disp.plot()"
   ]
  },
  {
   "cell_type": "code",
   "execution_count": null,
   "id": "4e30fcfb-56b6-459a-b723-11ad66bf78d2",
   "metadata": {},
   "outputs": [],
   "source": []
  },
  {
   "cell_type": "code",
   "execution_count": null,
   "id": "f8f48d2d-f22a-4259-a24f-325c1a2051e9",
   "metadata": {},
   "outputs": [],
   "source": []
  }
 ],
 "metadata": {
  "kernelspec": {
   "display_name": "Python 3 (ipykernel)",
   "language": "python",
   "name": "python3"
  },
  "language_info": {
   "codemirror_mode": {
    "name": "ipython",
    "version": 3
   },
   "file_extension": ".py",
   "mimetype": "text/x-python",
   "name": "python",
   "nbconvert_exporter": "python",
   "pygments_lexer": "ipython3",
   "version": "3.8.10"
  }
 },
 "nbformat": 4,
 "nbformat_minor": 5
}
