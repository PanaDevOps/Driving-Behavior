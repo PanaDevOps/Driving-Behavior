{
  "nbformat": 4,
  "nbformat_minor": 0,
  "metadata": {
    "colab": {
      "provenance": [],
      "collapsed_sections": []
    },
    "kernelspec": {
      "name": "python3",
      "display_name": "Python 3"
    },
    "language_info": {
      "name": "python"
    }
  },
  "cells": [
    {
      "cell_type": "markdown",
      "source": [
        "Create a model to train and predict what type of Driver is... \n",
        "\n",
        "> remove normal class, in case there's bit of problems"
      ],
      "metadata": {
        "id": "Fl0A5GLRSQmX"
      }
    },
    {
      "cell_type": "code",
      "execution_count": 1,
      "metadata": {
        "id": "cIOFA5-W8jXT"
      },
      "outputs": [],
      "source": [
        "# Importamos librerias esenciales\n",
        "import pandas as pd\n",
        "from sklearn import svm\n",
        "import matplotlib.pyplot as plt\n",
        "import numpy as np\n",
        "import seaborn as sns\n",
        "\n",
        "\n",
        "import os\n",
        "for dirname, _, filenames in os.walk('/kaggle/input'):\n",
        "    for filename in filenames:\n",
        "        print(os.path.join(dirname, filename))\n",
        "\n",
        "# Ignoramos warnings jeje\n",
        "import warnings\n",
        "warnings.filterwarnings('ignore')"
      ]
    },
    {
      "cell_type": "code",
      "source": [
        "# Importamos trainig dataset\n",
        "df_train = pd.read_csv(\"./train_motion_data.csv\")\n",
        "df_train.head() "
      ],
      "metadata": {
        "colab": {
          "base_uri": "https://localhost:8080/",
          "height": 345
        },
        "id": "yiUYpuLqHxYf",
        "outputId": "a2de64c0-0116-4907-f94d-8038abb6a5e2"
      },
      "execution_count": 2,
      "outputs": [
        {
          "output_type": "error",
          "ename": "FileNotFoundError",
          "evalue": "ignored",
          "traceback": [
            "\u001b[0;31m---------------------------------------------------------------------------\u001b[0m",
            "\u001b[0;31mFileNotFoundError\u001b[0m                         Traceback (most recent call last)",
            "\u001b[0;32m<ipython-input-2-279d8ceaf495>\u001b[0m in \u001b[0;36m<module>\u001b[0;34m\u001b[0m\n\u001b[1;32m      1\u001b[0m \u001b[0;31m# Importamos trainig dataset\u001b[0m\u001b[0;34m\u001b[0m\u001b[0;34m\u001b[0m\u001b[0;34m\u001b[0m\u001b[0m\n\u001b[0;32m----> 2\u001b[0;31m \u001b[0mdf_train\u001b[0m \u001b[0;34m=\u001b[0m \u001b[0mpd\u001b[0m\u001b[0;34m.\u001b[0m\u001b[0mread_csv\u001b[0m\u001b[0;34m(\u001b[0m\u001b[0;34m\"/kaggle/input/driving-behavior/train_motion_data.csv\"\u001b[0m\u001b[0;34m)\u001b[0m\u001b[0;34m\u001b[0m\u001b[0;34m\u001b[0m\u001b[0m\n\u001b[0m\u001b[1;32m      3\u001b[0m \u001b[0mdf_train\u001b[0m\u001b[0;34m.\u001b[0m\u001b[0mhead\u001b[0m\u001b[0;34m(\u001b[0m\u001b[0;34m)\u001b[0m\u001b[0;34m\u001b[0m\u001b[0;34m\u001b[0m\u001b[0m\n",
            "\u001b[0;32m/usr/local/lib/python3.7/dist-packages/pandas/util/_decorators.py\u001b[0m in \u001b[0;36mwrapper\u001b[0;34m(*args, **kwargs)\u001b[0m\n\u001b[1;32m    309\u001b[0m                     \u001b[0mstacklevel\u001b[0m\u001b[0;34m=\u001b[0m\u001b[0mstacklevel\u001b[0m\u001b[0;34m,\u001b[0m\u001b[0;34m\u001b[0m\u001b[0;34m\u001b[0m\u001b[0m\n\u001b[1;32m    310\u001b[0m                 )\n\u001b[0;32m--> 311\u001b[0;31m             \u001b[0;32mreturn\u001b[0m \u001b[0mfunc\u001b[0m\u001b[0;34m(\u001b[0m\u001b[0;34m*\u001b[0m\u001b[0margs\u001b[0m\u001b[0;34m,\u001b[0m \u001b[0;34m**\u001b[0m\u001b[0mkwargs\u001b[0m\u001b[0;34m)\u001b[0m\u001b[0;34m\u001b[0m\u001b[0;34m\u001b[0m\u001b[0m\n\u001b[0m\u001b[1;32m    312\u001b[0m \u001b[0;34m\u001b[0m\u001b[0m\n\u001b[1;32m    313\u001b[0m         \u001b[0;32mreturn\u001b[0m \u001b[0mwrapper\u001b[0m\u001b[0;34m\u001b[0m\u001b[0;34m\u001b[0m\u001b[0m\n",
            "\u001b[0;32m/usr/local/lib/python3.7/dist-packages/pandas/io/parsers/readers.py\u001b[0m in \u001b[0;36mread_csv\u001b[0;34m(filepath_or_buffer, sep, delimiter, header, names, index_col, usecols, squeeze, prefix, mangle_dupe_cols, dtype, engine, converters, true_values, false_values, skipinitialspace, skiprows, skipfooter, nrows, na_values, keep_default_na, na_filter, verbose, skip_blank_lines, parse_dates, infer_datetime_format, keep_date_col, date_parser, dayfirst, cache_dates, iterator, chunksize, compression, thousands, decimal, lineterminator, quotechar, quoting, doublequote, escapechar, comment, encoding, encoding_errors, dialect, error_bad_lines, warn_bad_lines, on_bad_lines, delim_whitespace, low_memory, memory_map, float_precision, storage_options)\u001b[0m\n\u001b[1;32m    584\u001b[0m     \u001b[0mkwds\u001b[0m\u001b[0;34m.\u001b[0m\u001b[0mupdate\u001b[0m\u001b[0;34m(\u001b[0m\u001b[0mkwds_defaults\u001b[0m\u001b[0;34m)\u001b[0m\u001b[0;34m\u001b[0m\u001b[0;34m\u001b[0m\u001b[0m\n\u001b[1;32m    585\u001b[0m \u001b[0;34m\u001b[0m\u001b[0m\n\u001b[0;32m--> 586\u001b[0;31m     \u001b[0;32mreturn\u001b[0m \u001b[0m_read\u001b[0m\u001b[0;34m(\u001b[0m\u001b[0mfilepath_or_buffer\u001b[0m\u001b[0;34m,\u001b[0m \u001b[0mkwds\u001b[0m\u001b[0;34m)\u001b[0m\u001b[0;34m\u001b[0m\u001b[0;34m\u001b[0m\u001b[0m\n\u001b[0m\u001b[1;32m    587\u001b[0m \u001b[0;34m\u001b[0m\u001b[0m\n\u001b[1;32m    588\u001b[0m \u001b[0;34m\u001b[0m\u001b[0m\n",
            "\u001b[0;32m/usr/local/lib/python3.7/dist-packages/pandas/io/parsers/readers.py\u001b[0m in \u001b[0;36m_read\u001b[0;34m(filepath_or_buffer, kwds)\u001b[0m\n\u001b[1;32m    480\u001b[0m \u001b[0;34m\u001b[0m\u001b[0m\n\u001b[1;32m    481\u001b[0m     \u001b[0;31m# Create the parser.\u001b[0m\u001b[0;34m\u001b[0m\u001b[0;34m\u001b[0m\u001b[0;34m\u001b[0m\u001b[0m\n\u001b[0;32m--> 482\u001b[0;31m     \u001b[0mparser\u001b[0m \u001b[0;34m=\u001b[0m \u001b[0mTextFileReader\u001b[0m\u001b[0;34m(\u001b[0m\u001b[0mfilepath_or_buffer\u001b[0m\u001b[0;34m,\u001b[0m \u001b[0;34m**\u001b[0m\u001b[0mkwds\u001b[0m\u001b[0;34m)\u001b[0m\u001b[0;34m\u001b[0m\u001b[0;34m\u001b[0m\u001b[0m\n\u001b[0m\u001b[1;32m    483\u001b[0m \u001b[0;34m\u001b[0m\u001b[0m\n\u001b[1;32m    484\u001b[0m     \u001b[0;32mif\u001b[0m \u001b[0mchunksize\u001b[0m \u001b[0;32mor\u001b[0m \u001b[0miterator\u001b[0m\u001b[0;34m:\u001b[0m\u001b[0;34m\u001b[0m\u001b[0;34m\u001b[0m\u001b[0m\n",
            "\u001b[0;32m/usr/local/lib/python3.7/dist-packages/pandas/io/parsers/readers.py\u001b[0m in \u001b[0;36m__init__\u001b[0;34m(self, f, engine, **kwds)\u001b[0m\n\u001b[1;32m    809\u001b[0m             \u001b[0mself\u001b[0m\u001b[0;34m.\u001b[0m\u001b[0moptions\u001b[0m\u001b[0;34m[\u001b[0m\u001b[0;34m\"has_index_names\"\u001b[0m\u001b[0;34m]\u001b[0m \u001b[0;34m=\u001b[0m \u001b[0mkwds\u001b[0m\u001b[0;34m[\u001b[0m\u001b[0;34m\"has_index_names\"\u001b[0m\u001b[0;34m]\u001b[0m\u001b[0;34m\u001b[0m\u001b[0;34m\u001b[0m\u001b[0m\n\u001b[1;32m    810\u001b[0m \u001b[0;34m\u001b[0m\u001b[0m\n\u001b[0;32m--> 811\u001b[0;31m         \u001b[0mself\u001b[0m\u001b[0;34m.\u001b[0m\u001b[0m_engine\u001b[0m \u001b[0;34m=\u001b[0m \u001b[0mself\u001b[0m\u001b[0;34m.\u001b[0m\u001b[0m_make_engine\u001b[0m\u001b[0;34m(\u001b[0m\u001b[0mself\u001b[0m\u001b[0;34m.\u001b[0m\u001b[0mengine\u001b[0m\u001b[0;34m)\u001b[0m\u001b[0;34m\u001b[0m\u001b[0;34m\u001b[0m\u001b[0m\n\u001b[0m\u001b[1;32m    812\u001b[0m \u001b[0;34m\u001b[0m\u001b[0m\n\u001b[1;32m    813\u001b[0m     \u001b[0;32mdef\u001b[0m \u001b[0mclose\u001b[0m\u001b[0;34m(\u001b[0m\u001b[0mself\u001b[0m\u001b[0;34m)\u001b[0m\u001b[0;34m:\u001b[0m\u001b[0;34m\u001b[0m\u001b[0;34m\u001b[0m\u001b[0m\n",
            "\u001b[0;32m/usr/local/lib/python3.7/dist-packages/pandas/io/parsers/readers.py\u001b[0m in \u001b[0;36m_make_engine\u001b[0;34m(self, engine)\u001b[0m\n\u001b[1;32m   1038\u001b[0m             )\n\u001b[1;32m   1039\u001b[0m         \u001b[0;31m# error: Too many arguments for \"ParserBase\"\u001b[0m\u001b[0;34m\u001b[0m\u001b[0;34m\u001b[0m\u001b[0;34m\u001b[0m\u001b[0m\n\u001b[0;32m-> 1040\u001b[0;31m         \u001b[0;32mreturn\u001b[0m \u001b[0mmapping\u001b[0m\u001b[0;34m[\u001b[0m\u001b[0mengine\u001b[0m\u001b[0;34m]\u001b[0m\u001b[0;34m(\u001b[0m\u001b[0mself\u001b[0m\u001b[0;34m.\u001b[0m\u001b[0mf\u001b[0m\u001b[0;34m,\u001b[0m \u001b[0;34m**\u001b[0m\u001b[0mself\u001b[0m\u001b[0;34m.\u001b[0m\u001b[0moptions\u001b[0m\u001b[0;34m)\u001b[0m  \u001b[0;31m# type: ignore[call-arg]\u001b[0m\u001b[0;34m\u001b[0m\u001b[0;34m\u001b[0m\u001b[0m\n\u001b[0m\u001b[1;32m   1041\u001b[0m \u001b[0;34m\u001b[0m\u001b[0m\n\u001b[1;32m   1042\u001b[0m     \u001b[0;32mdef\u001b[0m \u001b[0m_failover_to_python\u001b[0m\u001b[0;34m(\u001b[0m\u001b[0mself\u001b[0m\u001b[0;34m)\u001b[0m\u001b[0;34m:\u001b[0m\u001b[0;34m\u001b[0m\u001b[0;34m\u001b[0m\u001b[0m\n",
            "\u001b[0;32m/usr/local/lib/python3.7/dist-packages/pandas/io/parsers/c_parser_wrapper.py\u001b[0m in \u001b[0;36m__init__\u001b[0;34m(self, src, **kwds)\u001b[0m\n\u001b[1;32m     49\u001b[0m \u001b[0;34m\u001b[0m\u001b[0m\n\u001b[1;32m     50\u001b[0m         \u001b[0;31m# open handles\u001b[0m\u001b[0;34m\u001b[0m\u001b[0;34m\u001b[0m\u001b[0;34m\u001b[0m\u001b[0m\n\u001b[0;32m---> 51\u001b[0;31m         \u001b[0mself\u001b[0m\u001b[0;34m.\u001b[0m\u001b[0m_open_handles\u001b[0m\u001b[0;34m(\u001b[0m\u001b[0msrc\u001b[0m\u001b[0;34m,\u001b[0m \u001b[0mkwds\u001b[0m\u001b[0;34m)\u001b[0m\u001b[0;34m\u001b[0m\u001b[0;34m\u001b[0m\u001b[0m\n\u001b[0m\u001b[1;32m     52\u001b[0m         \u001b[0;32massert\u001b[0m \u001b[0mself\u001b[0m\u001b[0;34m.\u001b[0m\u001b[0mhandles\u001b[0m \u001b[0;32mis\u001b[0m \u001b[0;32mnot\u001b[0m \u001b[0;32mNone\u001b[0m\u001b[0;34m\u001b[0m\u001b[0;34m\u001b[0m\u001b[0m\n\u001b[1;32m     53\u001b[0m \u001b[0;34m\u001b[0m\u001b[0m\n",
            "\u001b[0;32m/usr/local/lib/python3.7/dist-packages/pandas/io/parsers/base_parser.py\u001b[0m in \u001b[0;36m_open_handles\u001b[0;34m(self, src, kwds)\u001b[0m\n\u001b[1;32m    227\u001b[0m             \u001b[0mmemory_map\u001b[0m\u001b[0;34m=\u001b[0m\u001b[0mkwds\u001b[0m\u001b[0;34m.\u001b[0m\u001b[0mget\u001b[0m\u001b[0;34m(\u001b[0m\u001b[0;34m\"memory_map\"\u001b[0m\u001b[0;34m,\u001b[0m \u001b[0;32mFalse\u001b[0m\u001b[0;34m)\u001b[0m\u001b[0;34m,\u001b[0m\u001b[0;34m\u001b[0m\u001b[0;34m\u001b[0m\u001b[0m\n\u001b[1;32m    228\u001b[0m             \u001b[0mstorage_options\u001b[0m\u001b[0;34m=\u001b[0m\u001b[0mkwds\u001b[0m\u001b[0;34m.\u001b[0m\u001b[0mget\u001b[0m\u001b[0;34m(\u001b[0m\u001b[0;34m\"storage_options\"\u001b[0m\u001b[0;34m,\u001b[0m \u001b[0;32mNone\u001b[0m\u001b[0;34m)\u001b[0m\u001b[0;34m,\u001b[0m\u001b[0;34m\u001b[0m\u001b[0;34m\u001b[0m\u001b[0m\n\u001b[0;32m--> 229\u001b[0;31m             \u001b[0merrors\u001b[0m\u001b[0;34m=\u001b[0m\u001b[0mkwds\u001b[0m\u001b[0;34m.\u001b[0m\u001b[0mget\u001b[0m\u001b[0;34m(\u001b[0m\u001b[0;34m\"encoding_errors\"\u001b[0m\u001b[0;34m,\u001b[0m \u001b[0;34m\"strict\"\u001b[0m\u001b[0;34m)\u001b[0m\u001b[0;34m,\u001b[0m\u001b[0;34m\u001b[0m\u001b[0;34m\u001b[0m\u001b[0m\n\u001b[0m\u001b[1;32m    230\u001b[0m         )\n\u001b[1;32m    231\u001b[0m \u001b[0;34m\u001b[0m\u001b[0m\n",
            "\u001b[0;32m/usr/local/lib/python3.7/dist-packages/pandas/io/common.py\u001b[0m in \u001b[0;36mget_handle\u001b[0;34m(path_or_buf, mode, encoding, compression, memory_map, is_text, errors, storage_options)\u001b[0m\n\u001b[1;32m    705\u001b[0m                 \u001b[0mencoding\u001b[0m\u001b[0;34m=\u001b[0m\u001b[0mioargs\u001b[0m\u001b[0;34m.\u001b[0m\u001b[0mencoding\u001b[0m\u001b[0;34m,\u001b[0m\u001b[0;34m\u001b[0m\u001b[0;34m\u001b[0m\u001b[0m\n\u001b[1;32m    706\u001b[0m                 \u001b[0merrors\u001b[0m\u001b[0;34m=\u001b[0m\u001b[0merrors\u001b[0m\u001b[0;34m,\u001b[0m\u001b[0;34m\u001b[0m\u001b[0;34m\u001b[0m\u001b[0m\n\u001b[0;32m--> 707\u001b[0;31m                 \u001b[0mnewline\u001b[0m\u001b[0;34m=\u001b[0m\u001b[0;34m\"\"\u001b[0m\u001b[0;34m,\u001b[0m\u001b[0;34m\u001b[0m\u001b[0;34m\u001b[0m\u001b[0m\n\u001b[0m\u001b[1;32m    708\u001b[0m             )\n\u001b[1;32m    709\u001b[0m         \u001b[0;32melse\u001b[0m\u001b[0;34m:\u001b[0m\u001b[0;34m\u001b[0m\u001b[0;34m\u001b[0m\u001b[0m\n",
            "\u001b[0;31mFileNotFoundError\u001b[0m: [Errno 2] No such file or directory: '/kaggle/input/driving-behavior/train_motion_data.csv'"
          ]
        }
      ]
    },
    {
      "cell_type": "markdown",
      "source": [
        "Checamos la correlación del training data para darnos una idea de sus diferencias."
      ],
      "metadata": {
        "id": "XpPaQhgcWYbb"
      }
    },
    {
      "cell_type": "code",
      "source": [
        "df_train.corr()"
      ],
      "metadata": {
        "colab": {
          "base_uri": "https://localhost:8080/",
          "height": 269
        },
        "id": "Xki6cj8f9qRf",
        "outputId": "42c41c80-27df-4a37-bbbb-2ddecec20ba5"
      },
      "execution_count": null,
      "outputs": [
        {
          "output_type": "execute_result",
          "data": {
            "text/plain": [
              "               AccX      AccY      AccZ     GyroX     GyroY     GyroZ  \\\n",
              "AccX       1.000000  0.207575 -0.044951 -0.099053  0.041181 -0.316195   \n",
              "AccY       0.207575  1.000000  0.041521 -0.018746  0.004012 -0.041036   \n",
              "AccZ      -0.044951  0.041521  1.000000 -0.042200 -0.012598  0.078577   \n",
              "GyroX     -0.099053 -0.018746 -0.042200  1.000000  0.209730  0.228621   \n",
              "GyroY      0.041181  0.004012 -0.012598  0.209730  1.000000  0.154064   \n",
              "GyroZ     -0.316195 -0.041036  0.078577  0.228621  0.154064  1.000000   \n",
              "Timestamp  0.040371  0.005101 -0.009431 -0.002978  0.005673 -0.031176   \n",
              "\n",
              "           Timestamp  \n",
              "AccX        0.040371  \n",
              "AccY        0.005101  \n",
              "AccZ       -0.009431  \n",
              "GyroX      -0.002978  \n",
              "GyroY       0.005673  \n",
              "GyroZ      -0.031176  \n",
              "Timestamp   1.000000  "
            ],
            "text/html": [
              "\n",
              "  <div id=\"df-486f4c97-62ba-4257-af2f-e2d79f38af7b\">\n",
              "    <div class=\"colab-df-container\">\n",
              "      <div>\n",
              "<style scoped>\n",
              "    .dataframe tbody tr th:only-of-type {\n",
              "        vertical-align: middle;\n",
              "    }\n",
              "\n",
              "    .dataframe tbody tr th {\n",
              "        vertical-align: top;\n",
              "    }\n",
              "\n",
              "    .dataframe thead th {\n",
              "        text-align: right;\n",
              "    }\n",
              "</style>\n",
              "<table border=\"1\" class=\"dataframe\">\n",
              "  <thead>\n",
              "    <tr style=\"text-align: right;\">\n",
              "      <th></th>\n",
              "      <th>AccX</th>\n",
              "      <th>AccY</th>\n",
              "      <th>AccZ</th>\n",
              "      <th>GyroX</th>\n",
              "      <th>GyroY</th>\n",
              "      <th>GyroZ</th>\n",
              "      <th>Timestamp</th>\n",
              "    </tr>\n",
              "  </thead>\n",
              "  <tbody>\n",
              "    <tr>\n",
              "      <th>AccX</th>\n",
              "      <td>1.000000</td>\n",
              "      <td>0.207575</td>\n",
              "      <td>-0.044951</td>\n",
              "      <td>-0.099053</td>\n",
              "      <td>0.041181</td>\n",
              "      <td>-0.316195</td>\n",
              "      <td>0.040371</td>\n",
              "    </tr>\n",
              "    <tr>\n",
              "      <th>AccY</th>\n",
              "      <td>0.207575</td>\n",
              "      <td>1.000000</td>\n",
              "      <td>0.041521</td>\n",
              "      <td>-0.018746</td>\n",
              "      <td>0.004012</td>\n",
              "      <td>-0.041036</td>\n",
              "      <td>0.005101</td>\n",
              "    </tr>\n",
              "    <tr>\n",
              "      <th>AccZ</th>\n",
              "      <td>-0.044951</td>\n",
              "      <td>0.041521</td>\n",
              "      <td>1.000000</td>\n",
              "      <td>-0.042200</td>\n",
              "      <td>-0.012598</td>\n",
              "      <td>0.078577</td>\n",
              "      <td>-0.009431</td>\n",
              "    </tr>\n",
              "    <tr>\n",
              "      <th>GyroX</th>\n",
              "      <td>-0.099053</td>\n",
              "      <td>-0.018746</td>\n",
              "      <td>-0.042200</td>\n",
              "      <td>1.000000</td>\n",
              "      <td>0.209730</td>\n",
              "      <td>0.228621</td>\n",
              "      <td>-0.002978</td>\n",
              "    </tr>\n",
              "    <tr>\n",
              "      <th>GyroY</th>\n",
              "      <td>0.041181</td>\n",
              "      <td>0.004012</td>\n",
              "      <td>-0.012598</td>\n",
              "      <td>0.209730</td>\n",
              "      <td>1.000000</td>\n",
              "      <td>0.154064</td>\n",
              "      <td>0.005673</td>\n",
              "    </tr>\n",
              "    <tr>\n",
              "      <th>GyroZ</th>\n",
              "      <td>-0.316195</td>\n",
              "      <td>-0.041036</td>\n",
              "      <td>0.078577</td>\n",
              "      <td>0.228621</td>\n",
              "      <td>0.154064</td>\n",
              "      <td>1.000000</td>\n",
              "      <td>-0.031176</td>\n",
              "    </tr>\n",
              "    <tr>\n",
              "      <th>Timestamp</th>\n",
              "      <td>0.040371</td>\n",
              "      <td>0.005101</td>\n",
              "      <td>-0.009431</td>\n",
              "      <td>-0.002978</td>\n",
              "      <td>0.005673</td>\n",
              "      <td>-0.031176</td>\n",
              "      <td>1.000000</td>\n",
              "    </tr>\n",
              "  </tbody>\n",
              "</table>\n",
              "</div>\n",
              "      <button class=\"colab-df-convert\" onclick=\"convertToInteractive('df-486f4c97-62ba-4257-af2f-e2d79f38af7b')\"\n",
              "              title=\"Convert this dataframe to an interactive table.\"\n",
              "              style=\"display:none;\">\n",
              "        \n",
              "  <svg xmlns=\"http://www.w3.org/2000/svg\" height=\"24px\"viewBox=\"0 0 24 24\"\n",
              "       width=\"24px\">\n",
              "    <path d=\"M0 0h24v24H0V0z\" fill=\"none\"/>\n",
              "    <path d=\"M18.56 5.44l.94 2.06.94-2.06 2.06-.94-2.06-.94-.94-2.06-.94 2.06-2.06.94zm-11 1L8.5 8.5l.94-2.06 2.06-.94-2.06-.94L8.5 2.5l-.94 2.06-2.06.94zm10 10l.94 2.06.94-2.06 2.06-.94-2.06-.94-.94-2.06-.94 2.06-2.06.94z\"/><path d=\"M17.41 7.96l-1.37-1.37c-.4-.4-.92-.59-1.43-.59-.52 0-1.04.2-1.43.59L10.3 9.45l-7.72 7.72c-.78.78-.78 2.05 0 2.83L4 21.41c.39.39.9.59 1.41.59.51 0 1.02-.2 1.41-.59l7.78-7.78 2.81-2.81c.8-.78.8-2.07 0-2.86zM5.41 20L4 18.59l7.72-7.72 1.47 1.35L5.41 20z\"/>\n",
              "  </svg>\n",
              "      </button>\n",
              "      \n",
              "  <style>\n",
              "    .colab-df-container {\n",
              "      display:flex;\n",
              "      flex-wrap:wrap;\n",
              "      gap: 12px;\n",
              "    }\n",
              "\n",
              "    .colab-df-convert {\n",
              "      background-color: #E8F0FE;\n",
              "      border: none;\n",
              "      border-radius: 50%;\n",
              "      cursor: pointer;\n",
              "      display: none;\n",
              "      fill: #1967D2;\n",
              "      height: 32px;\n",
              "      padding: 0 0 0 0;\n",
              "      width: 32px;\n",
              "    }\n",
              "\n",
              "    .colab-df-convert:hover {\n",
              "      background-color: #E2EBFA;\n",
              "      box-shadow: 0px 1px 2px rgba(60, 64, 67, 0.3), 0px 1px 3px 1px rgba(60, 64, 67, 0.15);\n",
              "      fill: #174EA6;\n",
              "    }\n",
              "\n",
              "    [theme=dark] .colab-df-convert {\n",
              "      background-color: #3B4455;\n",
              "      fill: #D2E3FC;\n",
              "    }\n",
              "\n",
              "    [theme=dark] .colab-df-convert:hover {\n",
              "      background-color: #434B5C;\n",
              "      box-shadow: 0px 1px 3px 1px rgba(0, 0, 0, 0.15);\n",
              "      filter: drop-shadow(0px 1px 2px rgba(0, 0, 0, 0.3));\n",
              "      fill: #FFFFFF;\n",
              "    }\n",
              "  </style>\n",
              "\n",
              "      <script>\n",
              "        const buttonEl =\n",
              "          document.querySelector('#df-486f4c97-62ba-4257-af2f-e2d79f38af7b button.colab-df-convert');\n",
              "        buttonEl.style.display =\n",
              "          google.colab.kernel.accessAllowed ? 'block' : 'none';\n",
              "\n",
              "        async function convertToInteractive(key) {\n",
              "          const element = document.querySelector('#df-486f4c97-62ba-4257-af2f-e2d79f38af7b');\n",
              "          const dataTable =\n",
              "            await google.colab.kernel.invokeFunction('convertToInteractive',\n",
              "                                                     [key], {});\n",
              "          if (!dataTable) return;\n",
              "\n",
              "          const docLinkHtml = 'Like what you see? Visit the ' +\n",
              "            '<a target=\"_blank\" href=https://colab.research.google.com/notebooks/data_table.ipynb>data table notebook</a>'\n",
              "            + ' to learn more about interactive tables.';\n",
              "          element.innerHTML = '';\n",
              "          dataTable['output_type'] = 'display_data';\n",
              "          await google.colab.output.renderOutput(dataTable, element);\n",
              "          const docLink = document.createElement('div');\n",
              "          docLink.innerHTML = docLinkHtml;\n",
              "          element.appendChild(docLink);\n",
              "        }\n",
              "      </script>\n",
              "    </div>\n",
              "  </div>\n",
              "  "
            ]
          },
          "metadata": {},
          "execution_count": 3
        }
      ]
    },
    {
      "cell_type": "markdown",
      "source": [
        "### Datos"
      ],
      "metadata": {
        "id": "hQHUSa7-9tYn"
      }
    },
    {
      "cell_type": "markdown",
      "source": [
        "Buscamos posibles datos nulos.\n",
        "\n",
        "\n",
        "*spoilers:*\n",
        "no hay"
      ],
      "metadata": {
        "id": "MFdk85ciWelx"
      }
    },
    {
      "cell_type": "code",
      "source": [
        "df_train.isnull().sum()"
      ],
      "metadata": {
        "colab": {
          "base_uri": "https://localhost:8080/"
        },
        "id": "zILnVNMO9xgQ",
        "outputId": "95ddf4f0-b1ba-48c9-8154-cacefc33cb01"
      },
      "execution_count": null,
      "outputs": [
        {
          "output_type": "execute_result",
          "data": {
            "text/plain": [
              "AccX         0\n",
              "AccY         0\n",
              "AccZ         0\n",
              "GyroX        0\n",
              "GyroY        0\n",
              "GyroZ        0\n",
              "Class        0\n",
              "Timestamp    0\n",
              "dtype: int64"
            ]
          },
          "metadata": {},
          "execution_count": 4
        }
      ]
    },
    {
      "cell_type": "markdown",
      "source": [
        "Generamos un pairplot para visualizar las variables que conoceremos como *X* que serán para clasificar la clase, la cual es la *y* de nuestros modelos.\n",
        "\n",
        "Descubrimos que las clases, evidentemente estan esparcidas en uniformente por sus respectivas variaciones, siendo Agresivos, Normales y Lentos. Podemos reconocer que ciertos modelos pueden ser utiles que otros, los cuales serán comprobados durante este notebook."
      ],
      "metadata": {
        "id": "9XnEtcDsWlwB"
      }
    },
    {
      "cell_type": "code",
      "source": [
        "sns.pairplot(\n",
        "    df_train,\n",
        "    x_vars = ['AccX', 'AccY', 'AccZ', 'GyroX', 'GyroY', 'GyroZ', 'Timestamp'],\n",
        "    y_vars = ['Class'],\n",
        ")"
      ],
      "metadata": {
        "colab": {
          "base_uri": "https://localhost:8080/",
          "height": 214
        },
        "id": "MsFDeiwC98Ik",
        "outputId": "b39d31e8-33eb-4c26-d5e4-9e1273409b11"
      },
      "execution_count": null,
      "outputs": [
        {
          "output_type": "execute_result",
          "data": {
            "text/plain": [
              "<seaborn.axisgrid.PairGrid at 0x7f6b3613afd0>"
            ]
          },
          "metadata": {},
          "execution_count": 5
        },
        {
          "output_type": "display_data",
          "data": {
            "text/plain": [
              "<Figure size 1260x180 with 7 Axes>"
            ],
            "image/png": "[encoded data removed]"
          },
          "metadata": {
            "needs_background": "light"
          }
        }
      ]
    },
    {
      "cell_type": "markdown",
      "source": [
        "Creamos un histograma de las clases para identificar la cantidad de cada una viendo esto que hay más lentos y los agresivos siendo la clase más pequeña."
      ],
      "metadata": {
        "id": "uiAhVyFGXKXr"
      }
    },
    {
      "cell_type": "code",
      "source": [
        "plt.hist(df_train['Class'])\n",
        "plt.show()"
      ],
      "metadata": {
        "colab": {
          "base_uri": "https://localhost:8080/",
          "height": 265
        },
        "id": "kWAvex1qH9aO",
        "outputId": "a5d6f00f-a7ff-488f-d64a-3143d6684070"
      },
      "execution_count": null,
      "outputs": [
        {
          "output_type": "display_data",
          "data": {
            "text/plain": [
              "<Figure size 432x288 with 1 Axes>"
            ],
            "image/png": "[encoded data removed]"
          },
          "metadata": {
            "needs_background": "light"
          }
        }
      ]
    },
    {
      "cell_type": "markdown",
      "source": [
        "Reemplazo de tipo de dato para columna Clase: str -> int"
      ],
      "metadata": {
        "id": "jgglGxjJAhxB"
      }
    },
    {
      "cell_type": "code",
      "source": [
        "df_train = df_train.replace({\"Class\":  {\"SLOW\":1, \"NORMAL\":2, \"AGGRESSIVE\":3} })"
      ],
      "metadata": {
        "id": "fU2AwMRG-o01"
      },
      "execution_count": null,
      "outputs": []
    },
    {
      "cell_type": "markdown",
      "source": [
        "Se intento una normalizacion para obtener un rango de datos más conciso y obtener un resultado más preciso.\n",
        "\n",
        "Al final se decidio descartar esta opción ya que al normalizar los datos y correr los modelos, seguian dando mismos resultados como si estos no fueran normalizados a lo igual que si lo fueran."
      ],
      "metadata": {
        "id": "Zu9NWgF7TW1D"
      }
    },
    {
      "cell_type": "code",
      "source": [
        "# (valores - promedio) / desviacion estandar : NORMALIZACION\n",
        "# df_train.iloc[:, 0:6] = (df_train.iloc[:, 0:6]-df_train.iloc[:, 0:6].mean()) / df_train.iloc[0, 0:6].std()\n",
        "# df_train.iloc[:, 7:] = (df_train.iloc[:, 7:]-df_train.iloc[:, 7:].mean()) / df_train.iloc[:, 7:].std()\n",
        "# df_train"
      ],
      "metadata": {
        "id": "mzN-JJ4qvz-Y"
      },
      "execution_count": null,
      "outputs": []
    },
    {
      "cell_type": "markdown",
      "source": [
        "Generamos valores *X* y *y* para el dataset de training, los que se usarán para cada modelo."
      ],
      "metadata": {
        "id": "gELM-LzPS-pK"
      }
    },
    {
      "cell_type": "code",
      "source": [
        "#dfX  = pd.DataFrame(df_train[[\"AccX\", \"AccY\", \"GyroX\"]].values)\n",
        "dfX  = pd.DataFrame(df_train[[\"AccX\", \"AccY\", \"GyroX\",\t\"GyroY\",\t\"GyroZ\"]].values)\n",
        "dfy  = pd.DataFrame(df_train[['Class']].values)"
      ],
      "metadata": {
        "id": "L16oHObo8ogZ"
      },
      "execution_count": null,
      "outputs": []
    },
    {
      "cell_type": "markdown",
      "source": [
        "Se gráfico un heatmap de la correlación de las columnas para poder ver como estas son diferentes. "
      ],
      "metadata": {
        "id": "bSBykWd7UTt8"
      }
    },
    {
      "cell_type": "code",
      "source": [
        "ax = sns.heatmap(df_train.corr(), annot=True).set(title='Pearson Correlations');"
      ],
      "metadata": {
        "colab": {
          "base_uri": "https://localhost:8080/",
          "height": 327
        },
        "id": "fiOZ-jhMNmNi",
        "outputId": "517c0aae-e7b5-4647-82ef-f7644ca0a59d"
      },
      "execution_count": null,
      "outputs": [
        {
          "output_type": "display_data",
          "data": {
            "text/plain": [
              "<Figure size 432x288 with 2 Axes>"
            ],
            "image/png": "[encoded data removed]"
          },
          "metadata": {
            "needs_background": "light"
          }
        }
      ]
    },
    {
      "cell_type": "markdown",
      "source": [
        "Creamos una variable DataFrame para el dataset del test y reemplazamos las variables de Clase a *int* como con el training data."
      ],
      "metadata": {
        "id": "KvFZ85mqUd_-"
      }
    },
    {
      "cell_type": "code",
      "source": [
        "# Obtaining test data\n",
        "df_test = pd.read_csv(\"./test_motion_data.csv\")\n",
        "df_test = df_test.replace({\"Class\":  {\"SLOW\":1, \"NORMAL\":2, \"AGGRESSIVE\":3} })\n",
        "df_test.head(3)"
      ],
      "metadata": {
        "colab": {
          "base_uri": "https://localhost:8080/",
          "height": 143
        },
        "id": "budv_p0L60Gt",
        "outputId": "c6361546-6e0e-436a-b5f0-8a1efc0a6360"
      },
      "execution_count": null,
      "outputs": [
        {
          "output_type": "execute_result",
          "data": {
            "text/plain": [
              "       AccX      AccY      AccZ     GyroX     GyroY     GyroZ  Class  \\\n",
              "0  0.758194 -0.217791  0.457263  0.000000  0.000000  0.000000      3   \n",
              "1  0.667560 -0.038610  0.231416 -0.054367 -0.007712  0.225257      3   \n",
              "2  2.724449 -7.584121  2.390926  0.023824  0.013668 -0.038026      3   \n",
              "\n",
              "   Timestamp  \n",
              "0     818922  \n",
              "1     818923  \n",
              "2     818923  "
            ],
            "text/html": [
              "\n",
              "  <div id=\"df-7cae529f-1aa9-4e37-9618-6fece6daf8ab\">\n",
              "    <div class=\"colab-df-container\">\n",
              "      <div>\n",
              "<style scoped>\n",
              "    .dataframe tbody tr th:only-of-type {\n",
              "        vertical-align: middle;\n",
              "    }\n",
              "\n",
              "    .dataframe tbody tr th {\n",
              "        vertical-align: top;\n",
              "    }\n",
              "\n",
              "    .dataframe thead th {\n",
              "        text-align: right;\n",
              "    }\n",
              "</style>\n",
              "<table border=\"1\" class=\"dataframe\">\n",
              "  <thead>\n",
              "    <tr style=\"text-align: right;\">\n",
              "      <th></th>\n",
              "      <th>AccX</th>\n",
              "      <th>AccY</th>\n",
              "      <th>AccZ</th>\n",
              "      <th>GyroX</th>\n",
              "      <th>GyroY</th>\n",
              "      <th>GyroZ</th>\n",
              "      <th>Class</th>\n",
              "      <th>Timestamp</th>\n",
              "    </tr>\n",
              "  </thead>\n",
              "  <tbody>\n",
              "    <tr>\n",
              "      <th>0</th>\n",
              "      <td>0.758194</td>\n",
              "      <td>-0.217791</td>\n",
              "      <td>0.457263</td>\n",
              "      <td>0.000000</td>\n",
              "      <td>0.000000</td>\n",
              "      <td>0.000000</td>\n",
              "      <td>3</td>\n",
              "      <td>818922</td>\n",
              "    </tr>\n",
              "    <tr>\n",
              "      <th>1</th>\n",
              "      <td>0.667560</td>\n",
              "      <td>-0.038610</td>\n",
              "      <td>0.231416</td>\n",
              "      <td>-0.054367</td>\n",
              "      <td>-0.007712</td>\n",
              "      <td>0.225257</td>\n",
              "      <td>3</td>\n",
              "      <td>818923</td>\n",
              "    </tr>\n",
              "    <tr>\n",
              "      <th>2</th>\n",
              "      <td>2.724449</td>\n",
              "      <td>-7.584121</td>\n",
              "      <td>2.390926</td>\n",
              "      <td>0.023824</td>\n",
              "      <td>0.013668</td>\n",
              "      <td>-0.038026</td>\n",
              "      <td>3</td>\n",
              "      <td>818923</td>\n",
              "    </tr>\n",
              "  </tbody>\n",
              "</table>\n",
              "</div>\n",
              "      <button class=\"colab-df-convert\" onclick=\"convertToInteractive('df-7cae529f-1aa9-4e37-9618-6fece6daf8ab')\"\n",
              "              title=\"Convert this dataframe to an interactive table.\"\n",
              "              style=\"display:none;\">\n",
              "        \n",
              "  <svg xmlns=\"http://www.w3.org/2000/svg\" height=\"24px\"viewBox=\"0 0 24 24\"\n",
              "       width=\"24px\">\n",
              "    <path d=\"M0 0h24v24H0V0z\" fill=\"none\"/>\n",
              "    <path d=\"M18.56 5.44l.94 2.06.94-2.06 2.06-.94-2.06-.94-.94-2.06-.94 2.06-2.06.94zm-11 1L8.5 8.5l.94-2.06 2.06-.94-2.06-.94L8.5 2.5l-.94 2.06-2.06.94zm10 10l.94 2.06.94-2.06 2.06-.94-2.06-.94-.94-2.06-.94 2.06-2.06.94z\"/><path d=\"M17.41 7.96l-1.37-1.37c-.4-.4-.92-.59-1.43-.59-.52 0-1.04.2-1.43.59L10.3 9.45l-7.72 7.72c-.78.78-.78 2.05 0 2.83L4 21.41c.39.39.9.59 1.41.59.51 0 1.02-.2 1.41-.59l7.78-7.78 2.81-2.81c.8-.78.8-2.07 0-2.86zM5.41 20L4 18.59l7.72-7.72 1.47 1.35L5.41 20z\"/>\n",
              "  </svg>\n",
              "      </button>\n",
              "      \n",
              "  <style>\n",
              "    .colab-df-container {\n",
              "      display:flex;\n",
              "      flex-wrap:wrap;\n",
              "      gap: 12px;\n",
              "    }\n",
              "\n",
              "    .colab-df-convert {\n",
              "      background-color: #E8F0FE;\n",
              "      border: none;\n",
              "      border-radius: 50%;\n",
              "      cursor: pointer;\n",
              "      display: none;\n",
              "      fill: #1967D2;\n",
              "      height: 32px;\n",
              "      padding: 0 0 0 0;\n",
              "      width: 32px;\n",
              "    }\n",
              "\n",
              "    .colab-df-convert:hover {\n",
              "      background-color: #E2EBFA;\n",
              "      box-shadow: 0px 1px 2px rgba(60, 64, 67, 0.3), 0px 1px 3px 1px rgba(60, 64, 67, 0.15);\n",
              "      fill: #174EA6;\n",
              "    }\n",
              "\n",
              "    [theme=dark] .colab-df-convert {\n",
              "      background-color: #3B4455;\n",
              "      fill: #D2E3FC;\n",
              "    }\n",
              "\n",
              "    [theme=dark] .colab-df-convert:hover {\n",
              "      background-color: #434B5C;\n",
              "      box-shadow: 0px 1px 3px 1px rgba(0, 0, 0, 0.15);\n",
              "      filter: drop-shadow(0px 1px 2px rgba(0, 0, 0, 0.3));\n",
              "      fill: #FFFFFF;\n",
              "    }\n",
              "  </style>\n",
              "\n",
              "      <script>\n",
              "        const buttonEl =\n",
              "          document.querySelector('#df-7cae529f-1aa9-4e37-9618-6fece6daf8ab button.colab-df-convert');\n",
              "        buttonEl.style.display =\n",
              "          google.colab.kernel.accessAllowed ? 'block' : 'none';\n",
              "\n",
              "        async function convertToInteractive(key) {\n",
              "          const element = document.querySelector('#df-7cae529f-1aa9-4e37-9618-6fece6daf8ab');\n",
              "          const dataTable =\n",
              "            await google.colab.kernel.invokeFunction('convertToInteractive',\n",
              "                                                     [key], {});\n",
              "          if (!dataTable) return;\n",
              "\n",
              "          const docLinkHtml = 'Like what you see? Visit the ' +\n",
              "            '<a target=\"_blank\" href=https://colab.research.google.com/notebooks/data_table.ipynb>data table notebook</a>'\n",
              "            + ' to learn more about interactive tables.';\n",
              "          element.innerHTML = '';\n",
              "          dataTable['output_type'] = 'display_data';\n",
              "          await google.colab.output.renderOutput(dataTable, element);\n",
              "          const docLink = document.createElement('div');\n",
              "          docLink.innerHTML = docLinkHtml;\n",
              "          element.appendChild(docLink);\n",
              "        }\n",
              "      </script>\n",
              "    </div>\n",
              "  </div>\n",
              "  "
            ]
          },
          "metadata": {},
          "execution_count": 11
        }
      ]
    },
    {
      "cell_type": "markdown",
      "source": [
        "Creamos variables *X* y *y* también para el dataset de testing que serán utilizados para poder verificar el accuracy score de nuestros modelos."
      ],
      "metadata": {
        "id": "99v2pI3AXs2Q"
      }
    },
    {
      "cell_type": "code",
      "source": [
        "# dfX_test  = pd.DataFrame(df_test[[\"AccX\", \"AccY\", \"GyroX\"]].values)\n",
        "dfX_test  = pd.DataFrame(df_test[[\"AccX\", \"AccY\", \"GyroX\",\t\"GyroY\",\t\"GyroZ\"]].values)\n",
        "dfy_test  = pd.DataFrame(df_test[['Class']].values)"
      ],
      "metadata": {
        "id": "QgwnG84R7IWD"
      },
      "execution_count": null,
      "outputs": []
    },
    {
      "cell_type": "markdown",
      "source": [
        "A lo igual que el training data, hicimos una normalización para el testing data, pero ya que recibiamos mismos valores decidimos descartarlos más comentarlos para futuras referencias."
      ],
      "metadata": {
        "id": "iuEbuPoEX2uX"
      }
    },
    {
      "cell_type": "code",
      "source": [
        "# (valores - promedio) / desviacion estandar : NORMALIZACION\n",
        "# df_test.iloc[:, 0:6] = (df_test.iloc[:, 0:6]-df_test.iloc[:, 0:6].mean()) / df_test.iloc[0, 0:6].std()\n",
        "# df_test.iloc[:, 7:] = (df_test.iloc[:, 7:]-df_test.iloc[:, 7:].mean()) / df_test.iloc[:, 7:].std()\n",
        "# df_test"
      ],
      "metadata": {
        "id": "Zic4L6J_rRHB"
      },
      "execution_count": null,
      "outputs": []
    },
    {
      "cell_type": "markdown",
      "source": [
        "Queriendo probar posibles soluciones hicimos una división a la mitad del trainig data para ver si podriamos entrenarlo mejor, lo cual resulto con scores peores que los originales lo cual decidimos dejar esta opción. Igual elaboramos sus propias variables pero también fueron descartadas."
      ],
      "metadata": {
        "id": "W2DhbR1tYAR5"
      }
    },
    {
      "cell_type": "code",
      "source": [
        "# df_train2 = df_train.iloc[:1542]\n",
        "# df_train2"
      ],
      "metadata": {
        "id": "TdfE4DVpDscj"
      },
      "execution_count": null,
      "outputs": []
    },
    {
      "cell_type": "code",
      "source": [
        "# dfX  = pd.DataFrame(df_train2[[\"AccX\", \"AccY\", \"GyroX\",\t\"GyroY\",\t\"GyroZ\"]].values)\n",
        "# dfy  = pd.DataFrame(df_train2[['Class']].values)"
      ],
      "metadata": {
        "id": "9F20gJMBEDao"
      },
      "execution_count": null,
      "outputs": []
    },
    {
      "cell_type": "markdown",
      "source": [
        "A continuación se mostrarán los tres modelos desarrollados estos siendo, Regresión Logstica, k Nearest Neighbor (kNN) y KMeans. Con el proposito de obtener un accuracy decente para poder clasificar que tipo de conductor hay en el testing data."
      ],
      "metadata": {
        "id": "zrfO5VBpYT52"
      }
    },
    {
      "cell_type": "markdown",
      "source": [
        "### Modelo de Regresión"
      ],
      "metadata": {
        "id": "8JWdaIbij_f6"
      }
    },
    {
      "cell_type": "code",
      "source": [
        "# importamos libreria de Regresión Logistica\n",
        "\n",
        "from sklearn.linear_model import LogisticRegression"
      ],
      "metadata": {
        "id": "IpwzbUwsA1BO"
      },
      "execution_count": null,
      "outputs": []
    },
    {
      "cell_type": "markdown",
      "source": [
        "Implementamos la función de Regresión Logistica utilizando nuestros variables del training data y creamos el modelo, después elaboramos una predicción usando la variabla *X* del testing data para ver si funciona dicho modelo. \n",
        "\n",
        "Corremos un accuracy score y obtenemos un porcentaje de 45.6%"
      ],
      "metadata": {
        "id": "9ZsKgcj9Z_nX"
      }
    },
    {
      "cell_type": "code",
      "source": [
        "# creamos modelo de Regresión\n",
        "\n",
        "logreg_model = LogisticRegression(C=1e5, class_weight=None)\n",
        "logreg_model.fit(dfX, dfy)\n",
        "\n",
        "ypred = logreg_model.predict(dfX_test)\n",
        "\n",
        "print(\"Exactitud del modelo: \", logreg_model.score(dfX_test, dfy_test))"
      ],
      "metadata": {
        "colab": {
          "base_uri": "https://localhost:8080/"
        },
        "id": "7cOEecztkBu3",
        "outputId": "4ff54937-2ebb-469f-dfa7-d5e3f806996b"
      },
      "execution_count": null,
      "outputs": [
        {
          "output_type": "stream",
          "name": "stdout",
          "text": [
            "Exactitud del modelo:  0.4571984435797665\n"
          ]
        }
      ]
    },
    {
      "cell_type": "code",
      "source": [
        "# Importamos librerias para la matriz de confusión\n",
        "\n",
        "from sklearn.metrics import confusion_matrix\n",
        "from sklearn.metrics import ConfusionMatrixDisplay\n",
        "\n",
        "# Desplegamos nuestra matriz y obtenemos resultados\n",
        "\n",
        "CM = confusion_matrix(dfy_test, ypred)\n",
        "CMNorm = ConfusionMatrixDisplay(confusion_matrix=CM)\n",
        "CMNorm.plot()\n",
        "plt.show()"
      ],
      "metadata": {
        "colab": {
          "base_uri": "https://localhost:8080/",
          "height": 279
        },
        "id": "62TQuBMTmwfX",
        "outputId": "719023f7-51db-47f7-854f-2ab5c169033e"
      },
      "execution_count": null,
      "outputs": [
        {
          "output_type": "display_data",
          "data": {
            "text/plain": [
              "<Figure size 432x288 with 2 Axes>"
            ],
            "image/png": "[encoded data removed]"
          },
          "metadata": {
            "needs_background": "light"
          }
        }
      ]
    },
    {
      "cell_type": "code",
      "source": [
        "# Elaboramos otra matriz pero normalizada a lo igual que con porcentaje a 100\n",
        "CMNorm = confusion_matrix(dfy_test, ypred, normalize=\"true\")\n",
        "disp = ConfusionMatrixDisplay(confusion_matrix=CMNorm*100, display_labels=logreg_model.classes_)\n",
        "disp.plot()\n",
        "plt.show()"
      ],
      "metadata": {
        "colab": {
          "base_uri": "https://localhost:8080/",
          "height": 279
        },
        "id": "E8Xbk4f_n7g_",
        "outputId": "ef84a745-d252-4157-becc-9a1ad5ca4eca"
      },
      "execution_count": null,
      "outputs": [
        {
          "output_type": "display_data",
          "data": {
            "text/plain": [
              "<Figure size 432x288 with 2 Axes>"
            ],
            "image/png": "[encoded data removed]"
          },
          "metadata": {
            "needs_background": "light"
          }
        }
      ]
    },
    {
      "cell_type": "markdown",
      "source": [
        "Creamos un reporte de la clasificación utilizando como comparación las variables *y* del testing data y la predicción del modelo. \n",
        "\n",
        "Donde podemos ver como tenemos otra vez nuestro accuracy de 45.6%. Este modelo no es tan convicente ya que esta por debajo del 50% y puede llegar a fallar más que lograr lo esperado."
      ],
      "metadata": {
        "id": "ZYlW8BRIaGWm"
      }
    },
    {
      "cell_type": "code",
      "source": [
        "from sklearn.metrics import classification_report\n",
        "\n",
        "print(classification_report(dfy_test, ypred))"
      ],
      "metadata": {
        "colab": {
          "base_uri": "https://localhost:8080/"
        },
        "id": "mv2fLw7b65Tn",
        "outputId": "95032200-c036-4647-ed70-d551978fbee7"
      },
      "execution_count": null,
      "outputs": [
        {
          "output_type": "stream",
          "name": "stdout",
          "text": [
            "              precision    recall  f1-score   support\n",
            "\n",
            "           1       0.46      0.88      0.61      1273\n",
            "           2       0.37      0.05      0.09       997\n",
            "           3       0.47      0.29      0.36       814\n",
            "\n",
            "    accuracy                           0.46      3084\n",
            "   macro avg       0.43      0.41      0.35      3084\n",
            "weighted avg       0.43      0.46      0.37      3084\n",
            "\n"
          ]
        }
      ]
    },
    {
      "cell_type": "markdown",
      "source": [
        "Para querer hacerlo más eficiente se utilizo el metódo de scaling en donde utilizamos los tres distintos metódos para poder compararlos y elegir el cual más sea eficiente y aceptarlo como nuestro nuevo accuracy."
      ],
      "metadata": {
        "id": "bCEIDR9Mb6BC"
      }
    },
    {
      "cell_type": "code",
      "source": [
        "# Importamos librerias de scaling\n",
        "from sklearn.preprocessing import StandardScaler\n",
        "from sklearn.preprocessing import MinMaxScaler\n",
        "from sklearn.preprocessing import RobustScaler\n",
        "from sklearn.metrics import accuracy_score"
      ],
      "metadata": {
        "id": "W4bk0NvKpuy-"
      },
      "execution_count": null,
      "outputs": []
    },
    {
      "cell_type": "code",
      "source": [
        "# Hacemos una copia del trainig dataset para nuestro modelo y no arruinar los datos originales.\n",
        "df_model_logreg = df_train.copy()"
      ],
      "metadata": {
        "id": "mjbp4hEtpQ--"
      },
      "execution_count": null,
      "outputs": []
    },
    {
      "cell_type": "markdown",
      "source": [
        "**Standard Scaling**\n",
        "\n",
        "Este metódo estandariza las variables eliminando la media y escalando a la varianza unitaria. \n",
        "\n",
        "Al correr este modelo reconocemos como hay un aumento de en el accuracy original, este siendo de 45.6% a uno de 46.2% "
      ],
      "metadata": {
        "id": "sEzuwCSAcR8k"
      }
    },
    {
      "cell_type": "code",
      "source": [
        "scaler = StandardScaler()\n",
        "\n",
        "# Estandarizamos y transformamos las variables\n",
        "features = [['AccX', 'AccY', 'GyroX', 'GyroY', 'GyroZ']]\n",
        "for feature in features:\n",
        "    df_model_logreg[feature] = scaler.fit_transform(df_model_logreg[feature])\n",
        "\n",
        "#Creamos modelo de LR\n",
        "log_reg = LogisticRegression(C=1e5)\n",
        "\n",
        "#Creamos X y y variable\n",
        "dfX = df_model_logreg[[\"AccX\", \"AccY\", \"GyroX\",\t\"GyroY\",\t\"GyroZ\"]].values\n",
        "dfy = df_model_logreg[['Class']].values\n",
        "\n",
        "#Entrenamos el modelo\n",
        "log_reg.fit(dfX, dfy)\n",
        "\n",
        "#Hacemos la predicción\n",
        "y_pred = log_reg.predict(dfX_test)\n",
        "\n",
        "#Verificamos el nuevo accuracy\n",
        "print(accuracy_score(dfy_test, y_pred))"
      ],
      "metadata": {
        "colab": {
          "base_uri": "https://localhost:8080/"
        },
        "id": "mk3th4pepNCd",
        "outputId": "c3d3d369-c8fb-47d5-f0e0-532eaa417465"
      },
      "execution_count": null,
      "outputs": [
        {
          "output_type": "stream",
          "name": "stdout",
          "text": [
            "0.46206225680933855\n"
          ]
        }
      ]
    },
    {
      "cell_type": "markdown",
      "source": [
        "**Robust Scaling** \n",
        "\n",
        "Escala las variables utilizando estadísticas que sean robustas para los valores atípicos.\n",
        "\n",
        "Este scaling method elimina la mediana y escala los datos de acuerdo con el rango de cuantiles (por defecto es IQR: Rango intercuartílico). El IQR es el rango entre el 1er cuartil (cuantil 25) y el 3er cuartil (cuantil 75).\n",
        "\n",
        "Este tiene un resultado de 45.6% similar al accuracy inicial dejandolo como un modelo con scaling nulo para nuestro clasificador."
      ],
      "metadata": {
        "id": "J2vqV5kndgwD"
      }
    },
    {
      "cell_type": "code",
      "source": [
        "scaler = RobustScaler()\n",
        "\n",
        "# Estandarizamos y transformamos las variables\n",
        "features = [['AccX', 'AccY', 'GyroX', 'GyroY', 'GyroZ']]\n",
        "for feature in features:\n",
        "    df_model_logreg[feature] = scaler.fit_transform(df_model_logreg[feature])\n",
        "\n",
        "# Creamos modelo de LR\n",
        "log_reg = LogisticRegression(C=1e5)\n",
        "\n",
        "#Creamos X y y variable\n",
        "dfX = df_model_logreg[[\"AccX\", \"AccY\", \"GyroX\",\t\"GyroY\",\t\"GyroZ\"]].values\n",
        "dfy = df_model_logreg[['Class']].values\n",
        "\n",
        "#Entrenamos el modelo\n",
        "log_reg.fit(dfX, dfy)\n",
        "\n",
        "#Hacemos la predicción\n",
        "y_pred = log_reg.predict(dfX_test)\n",
        "\n",
        "#Verificamos el nuevo accuracy\n",
        "print(accuracy_score(dfy_test, y_pred))"
      ],
      "metadata": {
        "colab": {
          "base_uri": "https://localhost:8080/"
        },
        "id": "S22KP0-Opefm",
        "outputId": "beb489a5-c5a2-4d5a-a6bc-27a04bf31e16"
      },
      "execution_count": null,
      "outputs": [
        {
          "output_type": "stream",
          "name": "stdout",
          "text": [
            "0.4565499351491569\n"
          ]
        }
      ]
    },
    {
      "cell_type": "markdown",
      "source": [
        "**MinMaxScaling**\n",
        "\n",
        "Transforma variables escalando cada una a un rango determinado.\n",
        "\n",
        "Este estimador escala y traduce cada variable individualmente de tal manera que esté en el rango dado en el conjunto de entrenamiento, por ejemplo, entre cero y uno.\n",
        "\n",
        "Este produce el peor resultado de todos, dando un porcentaje de 34.5%, 11% porciento menos del inicial."
      ],
      "metadata": {
        "id": "23WHEY6XeF0k"
      }
    },
    {
      "cell_type": "code",
      "source": [
        "scaler = MinMaxScaler()\n",
        "\n",
        "# Estandarizamos y transformamos las variables\n",
        "features = [['AccX', 'AccY', 'GyroX', 'GyroY', 'GyroZ']]\n",
        "for feature in features:\n",
        "    df_model_logreg[feature] = scaler.fit_transform(df_model_logreg[feature])\n",
        "\n",
        "#Creamos modelo de LR\n",
        "log_reg = LogisticRegression(C=1e5)\n",
        "\n",
        "#Creamos X y y variable\n",
        "dfX = df_model_logreg[[\"AccX\", \"AccY\", \"GyroX\",\t\"GyroY\",\t\"GyroZ\"]].values\n",
        "dfy = df_model_logreg[['Class']].values\n",
        "\n",
        "#Entrenamos el modelo\n",
        "log_reg.fit(dfX, dfy)\n",
        "\n",
        "#Hacemos la predicción\n",
        "y_pred = log_reg.predict(dfX_test)\n",
        "\n",
        "#Verificamos el nuevo accuracy\n",
        "print(accuracy_score(dfy_test, y_pred))"
      ],
      "metadata": {
        "colab": {
          "base_uri": "https://localhost:8080/"
        },
        "id": "1KW-ksNOpjL5",
        "outputId": "9eb17014-0459-4e61-db8c-d027dcba2c20"
      },
      "execution_count": null,
      "outputs": [
        {
          "output_type": "stream",
          "name": "stdout",
          "text": [
            "0.3450064850843061\n"
          ]
        }
      ]
    },
    {
      "cell_type": "markdown",
      "source": [
        "Finalmente decidimos optar este Modelo con el uso de Escalado Estandar para mejorar el accuracy de este mismo. \n",
        "\n",
        "Ya que nos da un mayor porcentaje pero no dando lo suficiente para poder llegar a un accuracy de 50%\n",
        "\n",
        "> **Accuracy Final:** *46.2%*"
      ],
      "metadata": {
        "id": "aYGGoV8Megnj"
      }
    },
    {
      "cell_type": "markdown",
      "source": [
        "### Modelo de KNN"
      ],
      "metadata": {
        "id": "_6Vk1NvUY6w1"
      }
    },
    {
      "cell_type": "markdown",
      "source": [
        "Nuestro segundo modelo, es el de k Nearest Neighbor, en el que buscamos valores k dentro de"
      ],
      "metadata": {
        "id": "HVm-05-Off6S"
      }
    },
    {
      "cell_type": "code",
      "source": [
        "# xnew = [-0.429366, 0.778989, 0.613423, -1.840191, 0.997252]"
      ],
      "metadata": {
        "id": "ZGfTJSQb8FKZ"
      },
      "execution_count": null,
      "outputs": []
    },
    {
      "cell_type": "code",
      "source": [
        "# Importamos la función de kNN\n",
        "from sklearn.neighbors import KNeighborsClassifier"
      ],
      "metadata": {
        "id": "IgFpxEiEm4z3"
      },
      "execution_count": null,
      "outputs": []
    },
    {
      "cell_type": "markdown",
      "source": [
        "Despues de importar la función, hacemos un modelo sencillo de kNN donde usamos la metrica eculideana e insertamos nuestro training data para luego prpedecir el testing data. \n",
        "\n",
        "Al finalizar este proceso corremos la puntuación de nuestro accuracy y vemos que tiene un porcentaje de 32.3%."
      ],
      "metadata": {
        "id": "-iDNTYmYm9G0"
      }
    },
    {
      "cell_type": "code",
      "source": [
        "# create model\n",
        "kNN = KNeighborsClassifier(n_neighbors = 15, metric = \"euclidean\")\n",
        "\n",
        "# fit the model for the trainig data\n",
        "kNN.fit(dfX, dfy)\n",
        "\n",
        "# make a prediction\n",
        "ypred = kNN.predict(dfX_test)\n",
        "ypred"
      ],
      "metadata": {
        "colab": {
          "base_uri": "https://localhost:8080/"
        },
        "id": "huzQAr2o3jhA",
        "outputId": "8f909af4-0783-4cbc-a4c4-82df4228581b"
      },
      "execution_count": null,
      "outputs": [
        {
          "output_type": "execute_result",
          "data": {
            "text/plain": [
              "array([3, 3, 3, ..., 3, 3, 3])"
            ]
          },
          "metadata": {},
          "execution_count": 33
        }
      ]
    },
    {
      "cell_type": "code",
      "source": [
        "print(\"Puntuación del Modelo:\",kNN.score(dfX_test, dfy_test))"
      ],
      "metadata": {
        "colab": {
          "base_uri": "https://localhost:8080/"
        },
        "id": "UI5fJNKU5K-E",
        "outputId": "852e42ed-0697-4e2a-a0d8-0c3959d34336"
      },
      "execution_count": null,
      "outputs": [
        {
          "output_type": "stream",
          "name": "stdout",
          "text": [
            "Puntuación del Modelo: 0.3239299610894942\n"
          ]
        }
      ]
    },
    {
      "cell_type": "markdown",
      "source": [
        "Al ver que es un modelo no tan apropiado para nuestros datasets, decidimos visualizarlos igual como el modelo anterior y también recrear una estandarización para mejorar su puntuaje."
      ],
      "metadata": {
        "id": "jgLG9iXDDCCk"
      }
    },
    {
      "cell_type": "code",
      "source": [
        "CM = confusion_matrix(dfy_test, ypred)\n",
        "CMNorm = ConfusionMatrixDisplay(confusion_matrix=CM)\n",
        "CMNorm.plot()\n",
        "plt.show()"
      ],
      "metadata": {
        "id": "qZC5MIReXKkX",
        "colab": {
          "base_uri": "https://localhost:8080/",
          "height": 279
        },
        "outputId": "f20cd9d4-d074-45c0-895a-80f0c4493917"
      },
      "execution_count": null,
      "outputs": [
        {
          "output_type": "display_data",
          "data": {
            "text/plain": [
              "<Figure size 432x288 with 2 Axes>"
            ],
            "image/png": "[encoded data removed]"
          },
          "metadata": {
            "needs_background": "light"
          }
        }
      ]
    },
    {
      "cell_type": "code",
      "source": [
        "CMNorm = confusion_matrix(dfy_test, ypred, normalize=\"true\")\n",
        "disp = ConfusionMatrixDisplay(confusion_matrix=CMNorm*100, display_labels=kNN.classes_)\n",
        "disp.plot()\n",
        "plt.show()"
      ],
      "metadata": {
        "id": "6D1JyXhJZQsF",
        "colab": {
          "base_uri": "https://localhost:8080/",
          "height": 279
        },
        "outputId": "15e2226c-ff1c-4055-e4b9-255c9e18027a"
      },
      "execution_count": null,
      "outputs": [
        {
          "output_type": "display_data",
          "data": {
            "text/plain": [
              "<Figure size 432x288 with 2 Axes>"
            ],
            "image/png": "[encoded data removed]"
          },
          "metadata": {
            "needs_background": "light"
          }
        }
      ]
    },
    {
      "cell_type": "code",
      "source": [
        "print(classification_report(dfy_test, ypred))"
      ],
      "metadata": {
        "id": "S_Td3yzsaJz3",
        "colab": {
          "base_uri": "https://localhost:8080/"
        },
        "outputId": "f823abda-ca3a-4185-ef93-728097ff3743"
      },
      "execution_count": null,
      "outputs": [
        {
          "output_type": "stream",
          "name": "stdout",
          "text": [
            "              precision    recall  f1-score   support\n",
            "\n",
            "           1       0.56      0.16      0.25      1273\n",
            "           2       0.32      0.08      0.13       997\n",
            "           3       0.29      0.88      0.43       814\n",
            "\n",
            "    accuracy                           0.32      3084\n",
            "   macro avg       0.39      0.37      0.27      3084\n",
            "weighted avg       0.41      0.32      0.26      3084\n",
            "\n"
          ]
        }
      ]
    },
    {
      "cell_type": "markdown",
      "source": [
        "Otra solución de mejora es el uso de hiperparametros, pero al querer correrlo creo que la cantidad o el tipo de estos hizo que tuviera un falso en el resultado dando valores de utilidad no tan utiles. Por ello decidimos descartar esta opción,"
      ],
      "metadata": {
        "id": "T51whnpnp42o"
      }
    },
    {
      "cell_type": "code",
      "source": [
        "# # Usando hiperparametros\n",
        "# from sklearn.model_selection import GridSearchCV\n",
        "\n",
        "# leaf_size = list(range(1,100))\n",
        "# n_neighbors = list(range(1,100))\n",
        "# p=[1,2] # 1 = manhattan, 2 = euclidean\n",
        "\n",
        "# # creamos diccionario\n",
        "# hyperparameters = dict(leaf_size=leaf_size, n_neighbors=n_neighbors, p=p)\n",
        "\n",
        "# # nuevo kNN\n",
        "# kNN2 = KNeighborsClassifier()\n",
        "\n",
        "# # uso de GridSearch?\n",
        "# clf = GridSearchCV(kNN2, hyperparameters, cv=10)\n",
        "\n",
        "# # fit model\n",
        "# better_smarter_stronger_model = clf.fit(dfX, dfy)\n",
        "\n",
        "# #Print The value of best Hyperparameters\n",
        "# print('Best leaf_size:', better_smarter_stronger_model.best_estimator_.get_params()['leaf_size'])\n",
        "# print('Best p:', better_smarter_stronger_model.best_estimator_.get_params()['p'])\n",
        "# print('Best n_neighbors:', better_smarter_stronger_model.best_estimator_.get_params()['n_neighbors'])"
      ],
      "metadata": {
        "id": "rcUkAkO1DPFH"
      },
      "execution_count": null,
      "outputs": []
    },
    {
      "cell_type": "code",
      "source": [
        "# elaboramos una copia del dataset para estandarizar\n",
        "df_model = df_train.copy()"
      ],
      "metadata": {
        "id": "6GVW1rDUJcIw"
      },
      "execution_count": null,
      "outputs": []
    },
    {
      "cell_type": "markdown",
      "source": [
        "Standard Scaling"
      ],
      "metadata": {
        "id": "5kzCTCcWKJ4q"
      }
    },
    {
      "cell_type": "code",
      "source": [
        "scaler = StandardScaler()\n",
        "\n",
        "features = [['AccX', 'AccY', 'GyroX', 'GyroY', 'GyroZ']]\n",
        "for feature in features:\n",
        "    df_model[feature] = scaler.fit_transform(df_model[feature])\n",
        "\n",
        "#Create KNN Object\n",
        "knn = KNeighborsClassifier(n_neighbors = 180, metric = \"euclidean\")\n",
        "\n",
        "#Create x and y variable\n",
        "dfX = df_model[[\"AccX\", \"AccY\", \"GyroX\",\t\"GyroY\",\t\"GyroZ\"]].values\n",
        "dfy = df_model[['Class']].values\n",
        "\n",
        "#Training the model\n",
        "knn.fit(dfX, dfy)\n",
        "\n",
        "#Predict testing set\n",
        "y_pred = knn.predict(dfX_test)\n",
        "\n",
        "#Check performance using accuracy\n",
        "print(accuracy_score(dfy_test, y_pred))"
      ],
      "metadata": {
        "id": "2hzaEe1mJczt",
        "colab": {
          "base_uri": "https://localhost:8080/"
        },
        "outputId": "7002cba6-a021-48d2-a75f-deaa853d4012"
      },
      "execution_count": null,
      "outputs": [
        {
          "output_type": "stream",
          "name": "stdout",
          "text": [
            "0.45492866407263294\n"
          ]
        }
      ]
    },
    {
      "cell_type": "markdown",
      "source": [
        "Robust Scaling"
      ],
      "metadata": {
        "id": "1AWP1DCPKL8s"
      }
    },
    {
      "cell_type": "code",
      "source": [
        "scaler = RobustScaler()\n",
        "\n",
        "features = [['AccX', 'AccY', 'GyroX', 'GyroY', 'GyroZ']]\n",
        "for feature in features:\n",
        "    df_model[feature] = scaler.fit_transform(df_model[feature])\n",
        "\n",
        "#Create KNN Object\n",
        "knn = KNeighborsClassifier(n_neighbors = 180, metric = \"euclidean\")\n",
        "\n",
        "#Create x and y variable\n",
        "dfX = df_model[[\"AccX\", \"AccY\", \"GyroX\",\t\"GyroY\",\t\"GyroZ\"]].values\n",
        "dfy = df_model[['Class']].values\n",
        "\n",
        "#Training the model\n",
        "knn.fit(dfX, dfy)\n",
        "\n",
        "#Predict testing set\n",
        "y_pred = knn.predict(dfX_test)\n",
        "\n",
        "#Check performance using accuracy\n",
        "print(accuracy_score(dfy_test, y_pred))"
      ],
      "metadata": {
        "id": "Rz5tOkSjKOKl",
        "colab": {
          "base_uri": "https://localhost:8080/"
        },
        "outputId": "2674ff36-a072-46e7-afcc-2b1d6e215837"
      },
      "execution_count": null,
      "outputs": [
        {
          "output_type": "stream",
          "name": "stdout",
          "text": [
            "0.46400778210116733\n"
          ]
        }
      ]
    },
    {
      "cell_type": "markdown",
      "source": [
        "Min-Max Scaler"
      ],
      "metadata": {
        "id": "6hUIIDi_Ko48"
      }
    },
    {
      "cell_type": "code",
      "source": [
        "scaler = MinMaxScaler()\n",
        "\n",
        "features = [['AccX', 'AccY', 'GyroX', 'GyroY', 'GyroZ']]\n",
        "for feature in features:\n",
        "    df_model[feature] = scaler.fit_transform(df_model[feature])\n",
        "\n",
        "#Create KNN Object\n",
        "knn = KNeighborsClassifier(n_neighbors = 180, metric = \"euclidean\")\n",
        "\n",
        "#Create x and y variable\n",
        "dfX = df_model[[\"AccX\", \"AccY\", \"GyroX\",\t\"GyroY\",\t\"GyroZ\"]].values\n",
        "dfy = df_model[['Class']].values\n",
        "\n",
        "#Training the model\n",
        "knn.fit(dfX, dfy)\n",
        "\n",
        "#Predict testing set\n",
        "y_pred = knn.predict(dfX_test)\n",
        "\n",
        "#Check performance using accuracy\n",
        "print(accuracy_score(dfy_test, y_pred))"
      ],
      "metadata": {
        "id": "yIn9J_8yKqYU",
        "colab": {
          "base_uri": "https://localhost:8080/"
        },
        "outputId": "493fe683-709f-49df-8152-14e4927a3645"
      },
      "execution_count": null,
      "outputs": [
        {
          "output_type": "stream",
          "name": "stdout",
          "text": [
            "0.2778858625162127\n"
          ]
        }
      ]
    },
    {
      "cell_type": "markdown",
      "source": [
        "\n",
        "Al utilizar los tres metódos, se puede ver un gran cambio en cada uno, sea para lo mejor o lo peor. Viendo que Robust y Standard tuvieron un aumento del 10% podemos reconocer que el uso de scaling en este modelo es útil. Al final nos quedamos con el Robust Scaling ya que es el mejor de las tres formas de scaling con un 1% mejor que el Standard Scaling.\n",
        "\n",
        "> **Accuracy Final:** *46.34*"
      ],
      "metadata": {
        "id": "iStwyd2rOPH_"
      }
    },
    {
      "cell_type": "markdown",
      "source": [
        "### Modelo Kmeans"
      ],
      "metadata": {
        "id": "VRA5jSk66Np2"
      }
    },
    {
      "cell_type": "code",
      "source": [
        "# Impprtamos libreria y función de KMeans\n",
        "from sklearn.cluster import KMeans\n"
      ],
      "metadata": {
        "id": "sy7YKP89q8d3"
      },
      "execution_count": null,
      "outputs": []
    },
    {
      "cell_type": "markdown",
      "source": [
        "KMeans lo utilizamos para poder buscar una clasificación de valores entre clusters, estos siendo grupos de varios datos y pueden representar varias cosas. En nuestro caso, los clusters serán nuestras clases.\n",
        "\n",
        "Al generar el modelo necesitamos crear una columna cluster para agregarla al training dataset y poder obtener donde cada uno de los drivers pertenece."
      ],
      "metadata": {
        "id": "RSDRXuACrFa2"
      }
    },
    {
      "cell_type": "code",
      "source": [
        "# creamos modelo kmeans y predecimos\n",
        "km1 = KMeans(n_clusters=3, random_state=0)\n",
        "km1.fit(dfX)\n",
        "\n",
        "ypredict1 = km1.predict(dfX)\n",
        "\n",
        "ypredict1"
      ],
      "metadata": {
        "id": "8K3g_X116Ra_",
        "colab": {
          "base_uri": "https://localhost:8080/"
        },
        "outputId": "61faa187-7041-46c8-e709-662b6cb27b54"
      },
      "execution_count": null,
      "outputs": [
        {
          "output_type": "execute_result",
          "data": {
            "text/plain": [
              "array([0, 1, 1, ..., 0, 0, 0], dtype=int32)"
            ]
          },
          "metadata": {},
          "execution_count": 43
        }
      ]
    },
    {
      "cell_type": "code",
      "source": [
        "ypredict1new = np.choose(ypredict1, [1, 2, 3]).astype(int)\n",
        "\n",
        "ypredict1new"
      ],
      "metadata": {
        "id": "YCxQMlgA-6eI",
        "colab": {
          "base_uri": "https://localhost:8080/"
        },
        "outputId": "5dc6527e-f793-4815-afe5-a796c602fdd2"
      },
      "execution_count": null,
      "outputs": [
        {
          "output_type": "execute_result",
          "data": {
            "text/plain": [
              "array([1, 2, 2, ..., 1, 1, 1])"
            ]
          },
          "metadata": {},
          "execution_count": 44
        }
      ]
    },
    {
      "cell_type": "code",
      "source": [
        "# df_train2['Cluster'] = ypredict1new\n",
        "\n",
        "# df_train2"
      ],
      "metadata": {
        "id": "QJifZWTZBq3J"
      },
      "execution_count": null,
      "outputs": []
    },
    {
      "cell_type": "code",
      "source": [
        "# agregamos columna cluster en el dataset (esta randomizada no correcta)\n",
        "df_train['Cluster'] = ypredict1new\n",
        "\n",
        "df_train"
      ],
      "metadata": {
        "id": "D0EAGutAEaFp",
        "colab": {
          "base_uri": "https://localhost:8080/",
          "height": 424
        },
        "outputId": "ee7481c5-fcfe-49e4-9df1-376115526805"
      },
      "execution_count": null,
      "outputs": [
        {
          "output_type": "execute_result",
          "data": {
            "text/plain": [
              "          AccX      AccY      AccZ     GyroX     GyroY     GyroZ  Class  \\\n",
              "0     0.000000  0.000000  0.000000  0.059407 -0.174707  0.101938      2   \n",
              "1    -1.624864 -1.082492 -0.204183 -0.028558  0.051313  0.135536      2   \n",
              "2    -0.594660 -0.122410  0.220502 -0.019395 -0.029322  0.087888      2   \n",
              "3     0.738478 -0.228456  0.667732  0.069791 -0.029932  0.054902      2   \n",
              "4     0.101741  0.777568 -0.066730  0.030696 -0.003665  0.054902      2   \n",
              "...        ...       ...       ...       ...       ...       ...    ...   \n",
              "3639  0.915688 -2.017489  1.687505  0.450360  0.384845 -1.236468      1   \n",
              "3640 -1.934203  0.914925 -0.096013  0.321468  0.649350 -0.477162      1   \n",
              "3641 -0.222845  0.747304 -0.887430  0.361174 -0.406836  0.054291      1   \n",
              "3642 -0.349423  0.067261  0.394368 -0.132405  0.020159 -0.004963      1   \n",
              "3643 -0.402428  0.406218 -0.423009 -0.053603 -0.006720  0.001145      1   \n",
              "\n",
              "      Timestamp  Cluster  \n",
              "0       3581629        1  \n",
              "1       3581630        2  \n",
              "2       3581630        2  \n",
              "3       3581631        3  \n",
              "4       3581631        1  \n",
              "...         ...      ...  \n",
              "3639    3583789        3  \n",
              "3640    3583790        1  \n",
              "3641    3583790        1  \n",
              "3642    3583791        1  \n",
              "3643    3583791        1  \n",
              "\n",
              "[3644 rows x 9 columns]"
            ],
            "text/html": [
              "\n",
              "  <div id=\"df-7c31bf6d-ea1b-4d65-b498-4ecfe9cf459d\">\n",
              "    <div class=\"colab-df-container\">\n",
              "      <div>\n",
              "<style scoped>\n",
              "    .dataframe tbody tr th:only-of-type {\n",
              "        vertical-align: middle;\n",
              "    }\n",
              "\n",
              "    .dataframe tbody tr th {\n",
              "        vertical-align: top;\n",
              "    }\n",
              "\n",
              "    .dataframe thead th {\n",
              "        text-align: right;\n",
              "    }\n",
              "</style>\n",
              "<table border=\"1\" class=\"dataframe\">\n",
              "  <thead>\n",
              "    <tr style=\"text-align: right;\">\n",
              "      <th></th>\n",
              "      <th>AccX</th>\n",
              "      <th>AccY</th>\n",
              "      <th>AccZ</th>\n",
              "      <th>GyroX</th>\n",
              "      <th>GyroY</th>\n",
              "      <th>GyroZ</th>\n",
              "      <th>Class</th>\n",
              "      <th>Timestamp</th>\n",
              "      <th>Cluster</th>\n",
              "    </tr>\n",
              "  </thead>\n",
              "  <tbody>\n",
              "    <tr>\n",
              "      <th>0</th>\n",
              "      <td>0.000000</td>\n",
              "      <td>0.000000</td>\n",
              "      <td>0.000000</td>\n",
              "      <td>0.059407</td>\n",
              "      <td>-0.174707</td>\n",
              "      <td>0.101938</td>\n",
              "      <td>2</td>\n",
              "      <td>3581629</td>\n",
              "      <td>1</td>\n",
              "    </tr>\n",
              "    <tr>\n",
              "      <th>1</th>\n",
              "      <td>-1.624864</td>\n",
              "      <td>-1.082492</td>\n",
              "      <td>-0.204183</td>\n",
              "      <td>-0.028558</td>\n",
              "      <td>0.051313</td>\n",
              "      <td>0.135536</td>\n",
              "      <td>2</td>\n",
              "      <td>3581630</td>\n",
              "      <td>2</td>\n",
              "    </tr>\n",
              "    <tr>\n",
              "      <th>2</th>\n",
              "      <td>-0.594660</td>\n",
              "      <td>-0.122410</td>\n",
              "      <td>0.220502</td>\n",
              "      <td>-0.019395</td>\n",
              "      <td>-0.029322</td>\n",
              "      <td>0.087888</td>\n",
              "      <td>2</td>\n",
              "      <td>3581630</td>\n",
              "      <td>2</td>\n",
              "    </tr>\n",
              "    <tr>\n",
              "      <th>3</th>\n",
              "      <td>0.738478</td>\n",
              "      <td>-0.228456</td>\n",
              "      <td>0.667732</td>\n",
              "      <td>0.069791</td>\n",
              "      <td>-0.029932</td>\n",
              "      <td>0.054902</td>\n",
              "      <td>2</td>\n",
              "      <td>3581631</td>\n",
              "      <td>3</td>\n",
              "    </tr>\n",
              "    <tr>\n",
              "      <th>4</th>\n",
              "      <td>0.101741</td>\n",
              "      <td>0.777568</td>\n",
              "      <td>-0.066730</td>\n",
              "      <td>0.030696</td>\n",
              "      <td>-0.003665</td>\n",
              "      <td>0.054902</td>\n",
              "      <td>2</td>\n",
              "      <td>3581631</td>\n",
              "      <td>1</td>\n",
              "    </tr>\n",
              "    <tr>\n",
              "      <th>...</th>\n",
              "      <td>...</td>\n",
              "      <td>...</td>\n",
              "      <td>...</td>\n",
              "      <td>...</td>\n",
              "      <td>...</td>\n",
              "      <td>...</td>\n",
              "      <td>...</td>\n",
              "      <td>...</td>\n",
              "      <td>...</td>\n",
              "    </tr>\n",
              "    <tr>\n",
              "      <th>3639</th>\n",
              "      <td>0.915688</td>\n",
              "      <td>-2.017489</td>\n",
              "      <td>1.687505</td>\n",
              "      <td>0.450360</td>\n",
              "      <td>0.384845</td>\n",
              "      <td>-1.236468</td>\n",
              "      <td>1</td>\n",
              "      <td>3583789</td>\n",
              "      <td>3</td>\n",
              "    </tr>\n",
              "    <tr>\n",
              "      <th>3640</th>\n",
              "      <td>-1.934203</td>\n",
              "      <td>0.914925</td>\n",
              "      <td>-0.096013</td>\n",
              "      <td>0.321468</td>\n",
              "      <td>0.649350</td>\n",
              "      <td>-0.477162</td>\n",
              "      <td>1</td>\n",
              "      <td>3583790</td>\n",
              "      <td>1</td>\n",
              "    </tr>\n",
              "    <tr>\n",
              "      <th>3641</th>\n",
              "      <td>-0.222845</td>\n",
              "      <td>0.747304</td>\n",
              "      <td>-0.887430</td>\n",
              "      <td>0.361174</td>\n",
              "      <td>-0.406836</td>\n",
              "      <td>0.054291</td>\n",
              "      <td>1</td>\n",
              "      <td>3583790</td>\n",
              "      <td>1</td>\n",
              "    </tr>\n",
              "    <tr>\n",
              "      <th>3642</th>\n",
              "      <td>-0.349423</td>\n",
              "      <td>0.067261</td>\n",
              "      <td>0.394368</td>\n",
              "      <td>-0.132405</td>\n",
              "      <td>0.020159</td>\n",
              "      <td>-0.004963</td>\n",
              "      <td>1</td>\n",
              "      <td>3583791</td>\n",
              "      <td>1</td>\n",
              "    </tr>\n",
              "    <tr>\n",
              "      <th>3643</th>\n",
              "      <td>-0.402428</td>\n",
              "      <td>0.406218</td>\n",
              "      <td>-0.423009</td>\n",
              "      <td>-0.053603</td>\n",
              "      <td>-0.006720</td>\n",
              "      <td>0.001145</td>\n",
              "      <td>1</td>\n",
              "      <td>3583791</td>\n",
              "      <td>1</td>\n",
              "    </tr>\n",
              "  </tbody>\n",
              "</table>\n",
              "<p>3644 rows × 9 columns</p>\n",
              "</div>\n",
              "      <button class=\"colab-df-convert\" onclick=\"convertToInteractive('df-7c31bf6d-ea1b-4d65-b498-4ecfe9cf459d')\"\n",
              "              title=\"Convert this dataframe to an interactive table.\"\n",
              "              style=\"display:none;\">\n",
              "        \n",
              "  <svg xmlns=\"http://www.w3.org/2000/svg\" height=\"24px\"viewBox=\"0 0 24 24\"\n",
              "       width=\"24px\">\n",
              "    <path d=\"M0 0h24v24H0V0z\" fill=\"none\"/>\n",
              "    <path d=\"M18.56 5.44l.94 2.06.94-2.06 2.06-.94-2.06-.94-.94-2.06-.94 2.06-2.06.94zm-11 1L8.5 8.5l.94-2.06 2.06-.94-2.06-.94L8.5 2.5l-.94 2.06-2.06.94zm10 10l.94 2.06.94-2.06 2.06-.94-2.06-.94-.94-2.06-.94 2.06-2.06.94z\"/><path d=\"M17.41 7.96l-1.37-1.37c-.4-.4-.92-.59-1.43-.59-.52 0-1.04.2-1.43.59L10.3 9.45l-7.72 7.72c-.78.78-.78 2.05 0 2.83L4 21.41c.39.39.9.59 1.41.59.51 0 1.02-.2 1.41-.59l7.78-7.78 2.81-2.81c.8-.78.8-2.07 0-2.86zM5.41 20L4 18.59l7.72-7.72 1.47 1.35L5.41 20z\"/>\n",
              "  </svg>\n",
              "      </button>\n",
              "      \n",
              "  <style>\n",
              "    .colab-df-container {\n",
              "      display:flex;\n",
              "      flex-wrap:wrap;\n",
              "      gap: 12px;\n",
              "    }\n",
              "\n",
              "    .colab-df-convert {\n",
              "      background-color: #E8F0FE;\n",
              "      border: none;\n",
              "      border-radius: 50%;\n",
              "      cursor: pointer;\n",
              "      display: none;\n",
              "      fill: #1967D2;\n",
              "      height: 32px;\n",
              "      padding: 0 0 0 0;\n",
              "      width: 32px;\n",
              "    }\n",
              "\n",
              "    .colab-df-convert:hover {\n",
              "      background-color: #E2EBFA;\n",
              "      box-shadow: 0px 1px 2px rgba(60, 64, 67, 0.3), 0px 1px 3px 1px rgba(60, 64, 67, 0.15);\n",
              "      fill: #174EA6;\n",
              "    }\n",
              "\n",
              "    [theme=dark] .colab-df-convert {\n",
              "      background-color: #3B4455;\n",
              "      fill: #D2E3FC;\n",
              "    }\n",
              "\n",
              "    [theme=dark] .colab-df-convert:hover {\n",
              "      background-color: #434B5C;\n",
              "      box-shadow: 0px 1px 3px 1px rgba(0, 0, 0, 0.15);\n",
              "      filter: drop-shadow(0px 1px 2px rgba(0, 0, 0, 0.3));\n",
              "      fill: #FFFFFF;\n",
              "    }\n",
              "  </style>\n",
              "\n",
              "      <script>\n",
              "        const buttonEl =\n",
              "          document.querySelector('#df-7c31bf6d-ea1b-4d65-b498-4ecfe9cf459d button.colab-df-convert');\n",
              "        buttonEl.style.display =\n",
              "          google.colab.kernel.accessAllowed ? 'block' : 'none';\n",
              "\n",
              "        async function convertToInteractive(key) {\n",
              "          const element = document.querySelector('#df-7c31bf6d-ea1b-4d65-b498-4ecfe9cf459d');\n",
              "          const dataTable =\n",
              "            await google.colab.kernel.invokeFunction('convertToInteractive',\n",
              "                                                     [key], {});\n",
              "          if (!dataTable) return;\n",
              "\n",
              "          const docLinkHtml = 'Like what you see? Visit the ' +\n",
              "            '<a target=\"_blank\" href=https://colab.research.google.com/notebooks/data_table.ipynb>data table notebook</a>'\n",
              "            + ' to learn more about interactive tables.';\n",
              "          element.innerHTML = '';\n",
              "          dataTable['output_type'] = 'display_data';\n",
              "          await google.colab.output.renderOutput(dataTable, element);\n",
              "          const docLink = document.createElement('div');\n",
              "          docLink.innerHTML = docLinkHtml;\n",
              "          element.appendChild(docLink);\n",
              "        }\n",
              "      </script>\n",
              "    </div>\n",
              "  </div>\n",
              "  "
            ]
          },
          "metadata": {},
          "execution_count": 45
        }
      ]
    },
    {
      "cell_type": "code",
      "source": [
        "# buscamos la ubicación de cada cluster\n",
        "km1.cluster_centers_"
      ],
      "metadata": {
        "id": "xyrmNm6lB1-9",
        "colab": {
          "base_uri": "https://localhost:8080/"
        },
        "outputId": "3042cefc-6c09-4937-b9c9-daa3041a0741"
      },
      "execution_count": null,
      "outputs": [
        {
          "output_type": "execute_result",
          "data": {
            "text/plain": [
              "array([[0.46948251, 0.58864865, 0.47299794, 0.48459921, 0.51883195],\n",
              "       [0.41893376, 0.4330916 , 0.47332688, 0.48495963, 0.52281007],\n",
              "       [0.60925083, 0.52936191, 0.46280841, 0.48727246, 0.48872874]])"
            ]
          },
          "metadata": {},
          "execution_count": 46
        }
      ]
    },
    {
      "cell_type": "code",
      "source": [
        "# encontramos el margen de error de nuestro modelo, se podria decir que es el anti-accuracy\n",
        "km1.inertia_"
      ],
      "metadata": {
        "id": "5o43XFTZB69Y",
        "colab": {
          "base_uri": "https://localhost:8080/"
        },
        "outputId": "01d6cbf0-02a0-4c33-fe82-6f7e0718a71e"
      },
      "execution_count": null,
      "outputs": [
        {
          "output_type": "execute_result",
          "data": {
            "text/plain": [
              "57.77992362509963"
            ]
          },
          "metadata": {},
          "execution_count": 47
        }
      ]
    },
    {
      "cell_type": "markdown",
      "source": [
        "Al ver un error de 57.7% podemos entender que nuestro accuracy podría ser de 42.3% siendo este un modelo igual que los anteriores, bajo del 50%. \n",
        "\n",
        "Después de ver este fallo empezamos a buscar como estabilizar este error y hacemos una función para reconocer el margen de error y la ubicación del dato *k* dentro del cluster."
      ],
      "metadata": {
        "id": "HnDg4AqCr2XU"
      }
    },
    {
      "cell_type": "code",
      "source": [
        "sse = []\n",
        "\n",
        "k_rng = range(3,30)\n",
        "\n",
        "for k in k_rng:\n",
        "  km = KMeans(n_clusters=k, random_state=2)\n",
        "  km.fit_predict(dfX) # dfX is training data\n",
        "  u = km.inertia_\n",
        "  sse.append(u)\n",
        "  print(\"The intertia for :\", k, \"Cluster is:\", u)\n",
        "\n",
        "# sse = []\n",
        "\n",
        "# k_rng = range(1,180)\n",
        "\n",
        "# for k in k_rng:\n",
        "#   km = KMeans(n_clusters=k, random_state=2)\n",
        "#   km = km.fit_predict(dfX) # dfX is training data\n",
        "#   sse.append(km.inertia_)\n",
        "#   print(\"The intertia for :\", k, \"Cluster is:\", sse)"
      ],
      "metadata": {
        "id": "SKdl3GwVB_Ck",
        "colab": {
          "base_uri": "https://localhost:8080/"
        },
        "outputId": "47c4d114-4c2d-4148-d0da-bf1faad50414"
      },
      "execution_count": null,
      "outputs": [
        {
          "output_type": "stream",
          "name": "stdout",
          "text": [
            "The intertia for : 3 Cluster is: 57.78909735546763\n",
            "The intertia for : 4 Cluster is: 50.05001463369694\n",
            "The intertia for : 5 Cluster is: 44.81645562841254\n",
            "The intertia for : 6 Cluster is: 41.36285065301999\n",
            "The intertia for : 7 Cluster is: 38.6786381883838\n",
            "The intertia for : 8 Cluster is: 36.47106948267274\n",
            "The intertia for : 9 Cluster is: 34.44904838800774\n",
            "The intertia for : 10 Cluster is: 32.898945091191464\n",
            "The intertia for : 11 Cluster is: 31.38488621623545\n",
            "The intertia for : 12 Cluster is: 30.262636969088433\n",
            "The intertia for : 13 Cluster is: 29.31943025938949\n",
            "The intertia for : 14 Cluster is: 28.430393574417185\n",
            "The intertia for : 15 Cluster is: 27.693844919783814\n",
            "The intertia for : 16 Cluster is: 26.91326274865482\n",
            "The intertia for : 17 Cluster is: 26.25744168822085\n",
            "The intertia for : 18 Cluster is: 25.68375729469282\n",
            "The intertia for : 19 Cluster is: 24.9888604817677\n",
            "The intertia for : 20 Cluster is: 24.426652461154664\n",
            "The intertia for : 21 Cluster is: 23.934477820623172\n",
            "The intertia for : 22 Cluster is: 23.346189018649017\n",
            "The intertia for : 23 Cluster is: 23.021840293121645\n",
            "The intertia for : 24 Cluster is: 22.5490522746584\n",
            "The intertia for : 25 Cluster is: 21.859947836467967\n",
            "The intertia for : 26 Cluster is: 21.747522678570945\n",
            "The intertia for : 27 Cluster is: 21.310416885627674\n",
            "The intertia for : 28 Cluster is: 20.971152764789892\n",
            "The intertia for : 29 Cluster is: 20.64589534692512\n"
          ]
        }
      ]
    },
    {
      "cell_type": "code",
      "source": [
        "#plt.plot(k_rng,sse)\n",
        "\n",
        "#plt.show()\n",
        "\n",
        "fig, (ax1) = plt.subplots(1, figsize=(16,6))\n",
        "xx = np.arange(len(k_rng))\n",
        "ax1.plot(xx, sse)\n",
        "ax1.set_xticks(xx)\n",
        "ax1.set_xticklabels(k_rng)\n",
        "plt.xlabel('n_components value')\n",
        "plt.ylabel('Inertia Score')\n",
        "plt.title('Inertia Plot per k')"
      ],
      "metadata": {
        "id": "ZlbuVll8Cjeg",
        "colab": {
          "base_uri": "https://localhost:8080/",
          "height": 422
        },
        "outputId": "6ad0e368-7965-46f3-f147-ad04ea7240ea"
      },
      "execution_count": null,
      "outputs": [
        {
          "output_type": "execute_result",
          "data": {
            "text/plain": [
              "Text(0.5, 1.0, 'Inertia Plot per k')"
            ]
          },
          "metadata": {},
          "execution_count": 50
        },
        {
          "output_type": "display_data",
          "data": {
            "text/plain": [
              "<Figure size 1152x432 with 1 Axes>"
            ],
            "image/png": "[encoded data removed]"
          },
          "metadata": {
            "needs_background": "light"
          }
        }
      ]
    },
    {
      "cell_type": "markdown",
      "source": [
        "Al visualizar la gráfica podemos ver como con 30 datos vemos una estabilización del error hasta un 20.6%, dando una idea de que mientras mayor uso de datos, podemos concretar un modelo KMeans más estable."
      ],
      "metadata": {
        "id": "EPpKGgFasRIB"
      }
    },
    {
      "cell_type": "markdown",
      "source": [
        "# Hipotesis?\n",
        "---"
      ],
      "metadata": {
        "id": "xK2rfB0tseno"
      }
    },
    {
      "cell_type": "markdown",
      "source": [
        "Alex:\n",
        "\n",
        "Quiero reconocer primero que nada que el uso de las tres clases en estos modelos llega a dar unos puntuajes muy bajos de mi preferencia. Me gustaria pensar que quizas una mayor cantidad de datos podría ayudar crear un modelo más estable y probablemente mejor para que pueda clasificar con mayor facilidad y eficiencia. También, si tuvieramos más tiempo creo que podriamos buscar otros modelos de clasificación o funciones/herramientas que nos limpien y preparen mejor los datos para dar una solución más satisfactoria."
      ],
      "metadata": {
        "id": "UpfqCfpWshTx"
      }
    }
  ]
}